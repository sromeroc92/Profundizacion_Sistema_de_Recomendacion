{
 "cells": [
  {
   "cell_type": "markdown",
   "metadata": {
    "id": "gzJLet17WTzh"
   },
   "source": [
    "### CUARTO PROYECTO CURSO DATA SCIENCE - ACAMICA\n",
    "### Nombre : Sebastián Romero\n",
    "\n",
    "\n",
    "### Sistemas de Recomendación para la plataforma Steam\n",
    "\n",
    "Descargar el dataset [aquí](https://github.com/kang205/SASRec). Hay dos archivos, uno de calificaciones y otro de información sobre los juegos."
   ]
  },
  {
   "cell_type": "markdown",
   "metadata": {},
   "source": [
    "**Objetivo Principal:** \n",
    "\n",
    "Desarrollar diferentes tipos de sistemas de recomendación para el Dataset Steam y elegir el que presente un mejor desempeño.\n",
    "\n",
    "**Objetivos específicos:**\n",
    "\n",
    "* Desarrollar un análisis exploratorio exhaustivo del Dataset Steam que nos permita tomar las desiciones adecuadas para el preprocesamiento y así asegurar la uniformidad del conjunto de datos.\n",
    "* Plantear diferentes alternativas para contruir un sistema de recomendación (caso benchmark, basado en contenidos y de filtro colaborativo basado en memoria y modelo), estructurarlas y desarrollarlas.\n",
    "* Elegir una métrica de evaluación acorde a las caracteristicas del Dataset Steam, de feedback implícito, que permita evaluar tanto la presencia como la ubicación de un item relevante en una recomendación.\n",
    "* Comparar los diferentes sistemas de recomendación desarrolados por medio de su desempeño en la métrica de evaluación elegida.\n",
    "* Generar algunas predicciones como la recomendación para un usuario específico, entre otros, para el sistema de recomendación con mejor desempeño."
   ]
  },
  {
   "cell_type": "markdown",
   "metadata": {},
   "source": [
    "### Carga de los Datasets y preprocesamiento inicial "
   ]
  },
  {
   "cell_type": "markdown",
   "metadata": {},
   "source": [
    "El Dataset Steam consta de dos archivos, un Dataset Reviews que contiene la reseña que cada usuario ha hecho sobre un juego en especifico y algunos datos sobre la interacción entre dicho usuario y el juego en cuestión, y el Dataset Games que tiene toda la información sobre el contenido y características de los juegos.\n",
    "\n",
    "Lo primero que haremos será importar las librerias ya comunmente usadas como numpy, pandas, matplotlib y seaborn, ademas que la libreria gzip que nos permitirá abrir los Datasets que se encuentran en formato json."
   ]
  },
  {
   "cell_type": "code",
   "execution_count": 1,
   "metadata": {},
   "outputs": [],
   "source": [
    "import numpy as np\n",
    "import pandas as pd\n",
    "import matplotlib.pyplot as plt\n",
    "import seaborn as sns\n",
    "import gzip\n",
    "\n",
    "pd.set_option('display.width', 150)"
   ]
  },
  {
   "cell_type": "code",
   "execution_count": 2,
   "metadata": {
    "id": "lWZhtUxEWTzj"
   },
   "outputs": [],
   "source": [
    "def parse(path):\n",
    "    g = gzip.open(path, 'r')\n",
    "    for l in g:\n",
    "        yield eval(l)"
   ]
  },
  {
   "cell_type": "markdown",
   "metadata": {
    "id": "BmEM25k4WTzw"
   },
   "source": [
    "#### Carga de los Datasets Reviews y Games"
   ]
  },
  {
   "cell_type": "code",
   "execution_count": 3,
   "metadata": {},
   "outputs": [],
   "source": [
    "data_reviews = []\n",
    "for l in parse('steam_reviews.json.gz'):\n",
    "    data_reviews.append(l)"
   ]
  },
  {
   "cell_type": "code",
   "execution_count": 4,
   "metadata": {
    "id": "7GovAZQBWTz8"
   },
   "outputs": [],
   "source": [
    "data_reviews = pd.DataFrame(data_reviews)"
   ]
  },
  {
   "cell_type": "code",
   "execution_count": 5,
   "metadata": {
    "id": "j24F0ZaYWT0E"
   },
   "outputs": [
    {
     "data": {
      "text/html": [
       "<div>\n",
       "<style scoped>\n",
       "    .dataframe tbody tr th:only-of-type {\n",
       "        vertical-align: middle;\n",
       "    }\n",
       "\n",
       "    .dataframe tbody tr th {\n",
       "        vertical-align: top;\n",
       "    }\n",
       "\n",
       "    .dataframe thead th {\n",
       "        text-align: right;\n",
       "    }\n",
       "</style>\n",
       "<table border=\"1\" class=\"dataframe\">\n",
       "  <thead>\n",
       "    <tr style=\"text-align: right;\">\n",
       "      <th></th>\n",
       "      <th>username</th>\n",
       "      <th>hours</th>\n",
       "      <th>products</th>\n",
       "      <th>product_id</th>\n",
       "      <th>page_order</th>\n",
       "      <th>date</th>\n",
       "      <th>text</th>\n",
       "      <th>early_access</th>\n",
       "      <th>page</th>\n",
       "      <th>found_funny</th>\n",
       "      <th>compensation</th>\n",
       "      <th>user_id</th>\n",
       "    </tr>\n",
       "  </thead>\n",
       "  <tbody>\n",
       "    <tr>\n",
       "      <th>0</th>\n",
       "      <td>Chaos Syren</td>\n",
       "      <td>0.1</td>\n",
       "      <td>41.0</td>\n",
       "      <td>725280</td>\n",
       "      <td>0</td>\n",
       "      <td>2017-12-17</td>\n",
       "      <td>This would not be acceptable as an entertainme...</td>\n",
       "      <td>False</td>\n",
       "      <td>1</td>\n",
       "      <td>NaN</td>\n",
       "      <td>NaN</td>\n",
       "      <td>NaN</td>\n",
       "    </tr>\n",
       "    <tr>\n",
       "      <th>1</th>\n",
       "      <td>₮ʜᴇ Wᴀʀᴛᴏɴ</td>\n",
       "      <td>51.1</td>\n",
       "      <td>769.0</td>\n",
       "      <td>328100</td>\n",
       "      <td>0</td>\n",
       "      <td>2017-12-27</td>\n",
       "      <td>looks like a facebook game</td>\n",
       "      <td>False</td>\n",
       "      <td>1</td>\n",
       "      <td>NaN</td>\n",
       "      <td>NaN</td>\n",
       "      <td>NaN</td>\n",
       "    </tr>\n",
       "    <tr>\n",
       "      <th>2</th>\n",
       "      <td>hello?&lt;</td>\n",
       "      <td>14.6</td>\n",
       "      <td>2.0</td>\n",
       "      <td>328100</td>\n",
       "      <td>1</td>\n",
       "      <td>2017-10-16</td>\n",
       "      <td>Better than Minecraft</td>\n",
       "      <td>False</td>\n",
       "      <td>1</td>\n",
       "      <td>2.0</td>\n",
       "      <td>Product received for free</td>\n",
       "      <td>NaN</td>\n",
       "    </tr>\n",
       "  </tbody>\n",
       "</table>\n",
       "</div>"
      ],
      "text/plain": [
       "      username  hours  products product_id  page_order        date                                               text  early_access  page  \\\n",
       "0  Chaos Syren    0.1      41.0     725280           0  2017-12-17  This would not be acceptable as an entertainme...         False     1   \n",
       "1   ₮ʜᴇ Wᴀʀᴛᴏɴ   51.1     769.0     328100           0  2017-12-27                         looks like a facebook game         False     1   \n",
       "2      hello?<   14.6       2.0     328100           1  2017-10-16                              Better than Minecraft         False     1   \n",
       "\n",
       "   found_funny               compensation user_id  \n",
       "0          NaN                        NaN     NaN  \n",
       "1          NaN                        NaN     NaN  \n",
       "2          2.0  Product received for free     NaN  "
      ]
     },
     "execution_count": 5,
     "metadata": {},
     "output_type": "execute_result"
    }
   ],
   "source": [
    "data_reviews.head(3)"
   ]
  },
  {
   "cell_type": "code",
   "execution_count": 6,
   "metadata": {},
   "outputs": [
    {
     "name": "stdout",
     "output_type": "stream",
     "text": [
      "El Dataset Reviews cargado tiene dimensiones:  (7793069, 12)\n"
     ]
    }
   ],
   "source": [
    "print('El Dataset Reviews cargado tiene dimensiones: ',data_reviews.shape)"
   ]
  },
  {
   "cell_type": "code",
   "execution_count": 7,
   "metadata": {},
   "outputs": [],
   "source": [
    "data_games = []\n",
    "for l in parse('steam_games.json.gz'):\n",
    "    data_games.append(l)"
   ]
  },
  {
   "cell_type": "code",
   "execution_count": 8,
   "metadata": {},
   "outputs": [],
   "source": [
    "data_games = pd.DataFrame(data_games)"
   ]
  },
  {
   "cell_type": "code",
   "execution_count": 9,
   "metadata": {},
   "outputs": [
    {
     "data": {
      "text/html": [
       "<div>\n",
       "<style scoped>\n",
       "    .dataframe tbody tr th:only-of-type {\n",
       "        vertical-align: middle;\n",
       "    }\n",
       "\n",
       "    .dataframe tbody tr th {\n",
       "        vertical-align: top;\n",
       "    }\n",
       "\n",
       "    .dataframe thead th {\n",
       "        text-align: right;\n",
       "    }\n",
       "</style>\n",
       "<table border=\"1\" class=\"dataframe\">\n",
       "  <thead>\n",
       "    <tr style=\"text-align: right;\">\n",
       "      <th></th>\n",
       "      <th>publisher</th>\n",
       "      <th>genres</th>\n",
       "      <th>app_name</th>\n",
       "      <th>title</th>\n",
       "      <th>url</th>\n",
       "      <th>release_date</th>\n",
       "      <th>tags</th>\n",
       "      <th>discount_price</th>\n",
       "      <th>reviews_url</th>\n",
       "      <th>specs</th>\n",
       "      <th>price</th>\n",
       "      <th>early_access</th>\n",
       "      <th>id</th>\n",
       "      <th>developer</th>\n",
       "      <th>sentiment</th>\n",
       "      <th>metascore</th>\n",
       "    </tr>\n",
       "  </thead>\n",
       "  <tbody>\n",
       "    <tr>\n",
       "      <th>0</th>\n",
       "      <td>Kotoshiro</td>\n",
       "      <td>[Action, Casual, Indie, Simulation, Strategy]</td>\n",
       "      <td>Lost Summoner Kitty</td>\n",
       "      <td>Lost Summoner Kitty</td>\n",
       "      <td>http://store.steampowered.com/app/761140/Lost_...</td>\n",
       "      <td>2018-01-04</td>\n",
       "      <td>[Strategy, Action, Indie, Casual, Simulation]</td>\n",
       "      <td>4.49</td>\n",
       "      <td>http://steamcommunity.com/app/761140/reviews/?...</td>\n",
       "      <td>[Single-player]</td>\n",
       "      <td>4.99</td>\n",
       "      <td>False</td>\n",
       "      <td>761140</td>\n",
       "      <td>Kotoshiro</td>\n",
       "      <td>NaN</td>\n",
       "      <td>NaN</td>\n",
       "    </tr>\n",
       "    <tr>\n",
       "      <th>1</th>\n",
       "      <td>Making Fun, Inc.</td>\n",
       "      <td>[Free to Play, Indie, RPG, Strategy]</td>\n",
       "      <td>Ironbound</td>\n",
       "      <td>Ironbound</td>\n",
       "      <td>http://store.steampowered.com/app/643980/Ironb...</td>\n",
       "      <td>2018-01-04</td>\n",
       "      <td>[Free to Play, Strategy, Indie, RPG, Card Game...</td>\n",
       "      <td>NaN</td>\n",
       "      <td>http://steamcommunity.com/app/643980/reviews/?...</td>\n",
       "      <td>[Single-player, Multi-player, Online Multi-Pla...</td>\n",
       "      <td>Free To Play</td>\n",
       "      <td>False</td>\n",
       "      <td>643980</td>\n",
       "      <td>Secret Level SRL</td>\n",
       "      <td>Mostly Positive</td>\n",
       "      <td>NaN</td>\n",
       "    </tr>\n",
       "    <tr>\n",
       "      <th>2</th>\n",
       "      <td>Poolians.com</td>\n",
       "      <td>[Casual, Free to Play, Indie, Simulation, Sports]</td>\n",
       "      <td>Real Pool 3D - Poolians</td>\n",
       "      <td>Real Pool 3D - Poolians</td>\n",
       "      <td>http://store.steampowered.com/app/670290/Real_...</td>\n",
       "      <td>2017-07-24</td>\n",
       "      <td>[Free to Play, Simulation, Sports, Casual, Ind...</td>\n",
       "      <td>NaN</td>\n",
       "      <td>http://steamcommunity.com/app/670290/reviews/?...</td>\n",
       "      <td>[Single-player, Multi-player, Online Multi-Pla...</td>\n",
       "      <td>Free to Play</td>\n",
       "      <td>False</td>\n",
       "      <td>670290</td>\n",
       "      <td>Poolians.com</td>\n",
       "      <td>Mostly Positive</td>\n",
       "      <td>NaN</td>\n",
       "    </tr>\n",
       "  </tbody>\n",
       "</table>\n",
       "</div>"
      ],
      "text/plain": [
       "          publisher                                             genres                 app_name                    title  \\\n",
       "0         Kotoshiro      [Action, Casual, Indie, Simulation, Strategy]      Lost Summoner Kitty      Lost Summoner Kitty   \n",
       "1  Making Fun, Inc.               [Free to Play, Indie, RPG, Strategy]                Ironbound                Ironbound   \n",
       "2      Poolians.com  [Casual, Free to Play, Indie, Simulation, Sports]  Real Pool 3D - Poolians  Real Pool 3D - Poolians   \n",
       "\n",
       "                                                 url release_date                                               tags  discount_price  \\\n",
       "0  http://store.steampowered.com/app/761140/Lost_...   2018-01-04      [Strategy, Action, Indie, Casual, Simulation]            4.49   \n",
       "1  http://store.steampowered.com/app/643980/Ironb...   2018-01-04  [Free to Play, Strategy, Indie, RPG, Card Game...             NaN   \n",
       "2  http://store.steampowered.com/app/670290/Real_...   2017-07-24  [Free to Play, Simulation, Sports, Casual, Ind...             NaN   \n",
       "\n",
       "                                         reviews_url                                              specs         price  early_access      id  \\\n",
       "0  http://steamcommunity.com/app/761140/reviews/?...                                    [Single-player]          4.99         False  761140   \n",
       "1  http://steamcommunity.com/app/643980/reviews/?...  [Single-player, Multi-player, Online Multi-Pla...  Free To Play         False  643980   \n",
       "2  http://steamcommunity.com/app/670290/reviews/?...  [Single-player, Multi-player, Online Multi-Pla...  Free to Play         False  670290   \n",
       "\n",
       "          developer        sentiment metascore  \n",
       "0         Kotoshiro              NaN       NaN  \n",
       "1  Secret Level SRL  Mostly Positive       NaN  \n",
       "2      Poolians.com  Mostly Positive       NaN  "
      ]
     },
     "execution_count": 9,
     "metadata": {},
     "output_type": "execute_result"
    }
   ],
   "source": [
    "data_games.head(3)"
   ]
  },
  {
   "cell_type": "code",
   "execution_count": 10,
   "metadata": {},
   "outputs": [
    {
     "name": "stdout",
     "output_type": "stream",
     "text": [
      "El Dataset Games cargado tiene dimensiones:  (32135, 16)\n"
     ]
    }
   ],
   "source": [
    "print('El Dataset Games cargado tiene dimensiones: ',data_games.shape)"
   ]
  },
  {
   "cell_type": "markdown",
   "metadata": {},
   "source": [
    "#### Eliminación de columnas poco informativas "
   ]
  },
  {
   "cell_type": "markdown",
   "metadata": {},
   "source": [
    "Para el dataset Reviews, las columnas page_order, date, early_acces, page, compensation  y found_funny son meramente informativas dentro de la base de datos pero no aportan información determinante sobre el usuario o el producto, así que son eliminadas. La columna user_id tiene multiples valores faltantes por lo tanto es eliminada. Será necesario crear una nueva identificación numérica para los usuarios en la cual no existan valores faltantes, para poder desarrollar el sistema de recomendación posteriormente. La columna products no será de utilidad ya que nos interesa el número de juegos que cada usuario tiene dentro del dataset y products incluye entradas por fuera de este dataset, que es una fracción de un dataset mucho más grande."
   ]
  },
  {
   "cell_type": "code",
   "execution_count": 11,
   "metadata": {},
   "outputs": [],
   "source": [
    "data_reviews.drop(['page_order','date','early_access','page','found_funny','compensation','user_id','products'],\n",
    "                  axis=1, inplace=True)"
   ]
  },
  {
   "cell_type": "code",
   "execution_count": 12,
   "metadata": {},
   "outputs": [
    {
     "data": {
      "text/plain": [
       "username          0\n",
       "hours         26537\n",
       "product_id        0\n",
       "text              0\n",
       "dtype: int64"
      ]
     },
     "execution_count": 12,
     "metadata": {},
     "output_type": "execute_result"
    }
   ],
   "source": [
    "data_reviews.isna().sum()"
   ]
  },
  {
   "cell_type": "markdown",
   "metadata": {},
   "source": [
    "Las entradas que no cuentan con número de horas jugadas no nos son útiles para desarrollar el algoritmo de recomendación y por esta razón nos deshacemos de dichas entradas."
   ]
  },
  {
   "cell_type": "code",
   "execution_count": 13,
   "metadata": {},
   "outputs": [],
   "source": [
    "data_reviews.dropna(subset=['hours'], inplace=True)"
   ]
  },
  {
   "cell_type": "markdown",
   "metadata": {},
   "source": [
    "Eliminaremos las entradas que contienen al usuario y al juego por duplicado, a pesar que las demás características sean diferentes. Esto puede deberse a que se tomaron los datos de un usuario jugando un mismo juego en diferentes momentos. En este caso nos quedaremos con el número de horas mayor, ya que esta será la variable determinante para definir la preferencia de un usuario por un juego, como veremos posteriormente."
   ]
  },
  {
   "cell_type": "code",
   "execution_count": 14,
   "metadata": {},
   "outputs": [],
   "source": [
    "max_horas = data_reviews.groupby(['username', 'product_id']).hours.transform(max)\n",
    "data_reviews = data_reviews[data_reviews.hours == max_horas]\n",
    "\n",
    "data_reviews.drop_duplicates(subset=['username','product_id'], inplace=True)"
   ]
  },
  {
   "cell_type": "markdown",
   "metadata": {},
   "source": [
    "Eliminaremos del dataset reviews las reseñas que registran cero horas de juego."
   ]
  },
  {
   "cell_type": "code",
   "execution_count": 15,
   "metadata": {},
   "outputs": [],
   "source": [
    "data_reviews = data_reviews[data_reviews.hours != 0]"
   ]
  },
  {
   "cell_type": "markdown",
   "metadata": {},
   "source": [
    "Para el dataset Games las columnas url, release_date, discount_price, reviews_url, early_access, sentiment y metascore, son eliminadas ya que no aportan información determinante para la identificación o comparación de los juegos. Las columna app_name y publisher se elimina ya que cuenta con la misma información que las columnas title y developer."
   ]
  },
  {
   "cell_type": "code",
   "execution_count": 16,
   "metadata": {},
   "outputs": [],
   "source": [
    "data_games.drop(['app_name','url','release_date','discount_price','reviews_url','early_access','metascore',\n",
    "                 'publisher','sentiment'], axis=1, inplace=True)"
   ]
  },
  {
   "cell_type": "code",
   "execution_count": 17,
   "metadata": {},
   "outputs": [
    {
     "data": {
      "text/plain": [
       "genres       3283\n",
       "title        2050\n",
       "tags          163\n",
       "specs         670\n",
       "price        1377\n",
       "id              2\n",
       "developer    3299\n",
       "dtype: int64"
      ]
     },
     "execution_count": 17,
     "metadata": {},
     "output_type": "execute_result"
    }
   ],
   "source": [
    "data_games.isna().sum()"
   ]
  },
  {
   "cell_type": "markdown",
   "metadata": {},
   "source": [
    "Los juegos que no tienen título o identificación serán eliminados ya que no podemos recomendar juegos cuyo nombre desconocemos, además las identificaciones de juego duplicadas también serán eliminadas."
   ]
  },
  {
   "cell_type": "code",
   "execution_count": 18,
   "metadata": {},
   "outputs": [],
   "source": [
    "data_games.dropna(subset=['title','id'], inplace=True)\n",
    "\n",
    "data_games.drop_duplicates(subset=['id'], inplace=True)"
   ]
  },
  {
   "cell_type": "code",
   "execution_count": 19,
   "metadata": {},
   "outputs": [
    {
     "name": "stdout",
     "output_type": "stream",
     "text": [
      "El Dataset Reviews tiene dimensiones:  (6859848, 4)\n"
     ]
    }
   ],
   "source": [
    "data_reviews = data_reviews.reset_index(drop = True)\n",
    "print('El Dataset Reviews tiene dimensiones: ',data_reviews.shape)"
   ]
  },
  {
   "cell_type": "code",
   "execution_count": 20,
   "metadata": {},
   "outputs": [
    {
     "name": "stdout",
     "output_type": "stream",
     "text": [
      "El Dataset Games tiene dimensiones:  (30083, 7)\n"
     ]
    }
   ],
   "source": [
    "data_games = data_games.reset_index(drop = True)\n",
    "print('El Dataset Games tiene dimensiones: ',data_games.shape)"
   ]
  },
  {
   "cell_type": "markdown",
   "metadata": {},
   "source": [
    "### Análisis exploratorio y preprocesamiento de los datos\n",
    "\n",
    "#### Dataset Reviews\n",
    "\n",
    "#### Distribución de la variable 'hours'"
   ]
  },
  {
   "cell_type": "markdown",
   "metadata": {},
   "source": [
    "Algunos estadísticos de la distribución de las horas de juego."
   ]
  },
  {
   "cell_type": "code",
   "execution_count": 21,
   "metadata": {},
   "outputs": [
    {
     "name": "stdout",
     "output_type": "stream",
     "text": [
      "promedio : 101.08\n",
      "std :      373.83\n",
      "mínimo :   0.10\n",
      "Q1 :       3.60\n",
      "mediana :  13.70\n",
      "Q3 :       52.20\n",
      "máximo :   42100.70\n"
     ]
    }
   ],
   "source": [
    "print('promedio : %0.2f' % (data_reviews.hours.mean()))\n",
    "print('std :      %0.2f' % (data_reviews.hours.std()))\n",
    "print('mínimo :   %0.2f' % (data_reviews.hours.min()))\n",
    "print('Q1 :       %0.2f' % (data_reviews.hours.quantile(0.25)))\n",
    "print('mediana :  %0.2f' % (data_reviews.hours.quantile(0.5)))\n",
    "print('Q3 :       %0.2f' % (data_reviews.hours.quantile(0.75)))\n",
    "print('máximo :   %0.2f' % (data_reviews.hours.max()))"
   ]
  },
  {
   "cell_type": "markdown",
   "metadata": {},
   "source": [
    "Observaremos la distribución del número de horas de juego con respecto a las reseñas totales. Utilizando esta distribución determinaremos el valor adecuado para el umbral del número de horas de juego que definirá posteriormente la preferencia de un usuario por un juego."
   ]
  },
  {
   "cell_type": "code",
   "execution_count": 22,
   "metadata": {},
   "outputs": [],
   "source": [
    "distribución_horas = data_reviews.hours.sort_values(ascending = True).values\n",
    "conteo_reviews = np.arange(1,len(distribución_horas)+1)"
   ]
  },
  {
   "cell_type": "code",
   "execution_count": 23,
   "metadata": {
    "scrolled": true
   },
   "outputs": [
    {
     "data": {
      "image/png": "[encoded data removed]",
      "text/plain": [
       "<Figure size 1008x360 with 1 Axes>"
      ]
     },
     "metadata": {
      "needs_background": "light"
     },
     "output_type": "display_data"
    }
   ],
   "source": [
    "plt.figure(figsize=(14,5))\n",
    "plt.title('distribución del número de horas de juego con respecto al número total de reseñas')\n",
    "plt.plot(distribución_horas, conteo_reviews, color='dodgerblue')\n",
    "plt.fill_between(distribución_horas, conteo_reviews, color='skyblue')\n",
    "plt.axvline(x=5, c='r', ls='--', label='umbral de 5 horas de juego')\n",
    "plt.xlabel('horas de juego')\n",
    "plt.ylabel('número de reseñas')\n",
    "plt.legend(loc=0)\n",
    "plt.xlim(0,300)\n",
    "plt.ylim(0)\n",
    "plt.grid()\n",
    "plt.show()"
   ]
  },
  {
   "cell_type": "code",
   "execution_count": 24,
   "metadata": {},
   "outputs": [
    {
     "name": "stdout",
     "output_type": "stream",
     "text": [
      "número de reseñas con 5 o más horas de juego :  4789783\n",
      "número de reseñas con menos de 5 horas de juego :  2070065\n"
     ]
    }
   ],
   "source": [
    "print('número de reseñas con 5 o más horas de juego : ', len(data_reviews[data_reviews.hours >= 5]))\n",
    "print('número de reseñas con menos de 5 horas de juego : ', len(data_reviews[data_reviews.hours < 5]))"
   ]
  },
  {
   "cell_type": "markdown",
   "metadata": {},
   "source": [
    "A partir de la información obtenida se define el umbral de preferencia de un usuario por un juego en 5 horas de interacción."
   ]
  },
  {
   "cell_type": "code",
   "execution_count": 25,
   "metadata": {},
   "outputs": [
    {
     "data": {
      "image/png": "[encoded data removed]",
      "text/plain": [
       "<Figure size 1008x360 with 2 Axes>"
      ]
     },
     "metadata": {
      "needs_background": "light"
     },
     "output_type": "display_data"
    }
   ],
   "source": [
    "plt.figure(figsize = (14,5))\n",
    "plt.subplot(1,2,1)\n",
    "max_hour = 100\n",
    "sns.boxplot(y = data_reviews.hours[data_reviews.hours<max_hour], color='deepskyblue')\n",
    "plt.title(\"diagrama de cajas de horas jugadas\")\n",
    "plt.ylabel(\"horas jugadas\")\n",
    "plt.grid()\n",
    "plt.subplot(1,2,2)\n",
    "sns.histplot(data = data_reviews.hours[data_reviews.hours<max_hour], bins = 40, color='deepskyblue')\n",
    "plt.axvline(x=5, c='r', ls='--', label='umbral de 5 horas de juego')\n",
    "plt.title(\"histograma de horas jugadas por entrada\")\n",
    "plt.xlabel(\"horas jugadas\")\n",
    "plt.ylabel(\"número de entradas\")\n",
    "plt.legend(loc=0)\n",
    "plt.xlim(0,max_hour)\n",
    "plt.grid()\n",
    "plt.show()"
   ]
  },
  {
   "cell_type": "markdown",
   "metadata": {},
   "source": [
    "El umbral de preferencia de un usuario por un juego es de suma importancia, ya que al tratarse de un dataset de feedback implícito, no se cuenta con una calificación explícita de un usuario con respecto a un juego (sea de su gusto o no); si no con una o varias variables que implicitamente reflejan la preferencia a través de la interacción entre el usuario y el juego. En este caso la variable que utilizamos es el número de horas de juego y el umbral que define la preferencia de un usuario por un juego es de 5 horas. \n",
    "\n",
    "En un sistema de recomendación implícito la preferencia es una variable binaria que toma los valores 1 (si hay preferencia) o 0 (si no la hay). Es por ello que las reseñas con menos de 5 horas de juego, al igual que todas las interacciones faltantes entre usuarios y juegos tomarán el valor de 0, por ello eliminaremos estas reseñas, ya que con las reseñas restantes construiremos la preferencia positiva."
   ]
  },
  {
   "cell_type": "code",
   "execution_count": 26,
   "metadata": {},
   "outputs": [],
   "source": [
    "data_reviews = data_reviews[data_reviews.hours >= 5]"
   ]
  },
  {
   "cell_type": "code",
   "execution_count": 27,
   "metadata": {},
   "outputs": [
    {
     "name": "stdout",
     "output_type": "stream",
     "text": [
      "El Dataset Reviews tiene dimensiones:  (4789783, 4)\n"
     ]
    }
   ],
   "source": [
    "data_reviews = data_reviews.reset_index(drop = True)\n",
    "print('El Dataset Reviews tiene dimensiones: ',data_reviews.shape)"
   ]
  },
  {
   "cell_type": "markdown",
   "metadata": {},
   "source": [
    "#### Distribución de la variable 'product_id'"
   ]
  },
  {
   "cell_type": "code",
   "execution_count": 28,
   "metadata": {},
   "outputs": [
    {
     "name": "stdout",
     "output_type": "stream",
     "text": [
      "el número de juegos existentes es :  12822\n"
     ]
    }
   ],
   "source": [
    "print('el número de juegos existentes es : ', len(np.unique(data_reviews.product_id)))"
   ]
  },
  {
   "cell_type": "code",
   "execution_count": 29,
   "metadata": {},
   "outputs": [
    {
     "name": "stdout",
     "output_type": "stream",
     "text": [
      "número de jugadores por id de juego\n",
      "\n",
      "440       113443\n",
      "252490     63144\n",
      "49520      48450\n",
      "377160     45703\n",
      "301520     40636\n",
      "           ...  \n",
      "452000         1\n",
      "643600         1\n",
      "496390         1\n",
      "708120         1\n",
      "739210         1\n",
      "Name: product_id, Length: 12822, dtype: int64\n"
     ]
    }
   ],
   "source": [
    "distribucion_juegos = data_reviews.product_id.value_counts()\n",
    "print('número de jugadores por id de juego\\n')\n",
    "print(distribucion_juegos)"
   ]
  },
  {
   "cell_type": "markdown",
   "metadata": {},
   "source": [
    "Ahora observaremos la distribución de los juegos con respecto al total de usuarios y a las reseñas que estos usuarios representan. Utilizando esta distribución determinaremos el valor adecuado para el umbral del número de usuarios por juego que será utilizado posteriormente para eliminar los juegos menos populares y representativos."
   ]
  },
  {
   "cell_type": "code",
   "execution_count": 30,
   "metadata": {},
   "outputs": [],
   "source": [
    "distribucion_juegos = distribucion_juegos.sort_values(ascending = True)\n",
    "conteo_juegos = np.arange(1,len(distribucion_juegos)+1)"
   ]
  },
  {
   "cell_type": "code",
   "execution_count": 31,
   "metadata": {},
   "outputs": [
    {
     "data": {
      "image/png": "[encoded data removed]",
      "text/plain": [
       "<Figure size 1008x360 with 1 Axes>"
      ]
     },
     "metadata": {
      "needs_background": "light"
     },
     "output_type": "display_data"
    }
   ],
   "source": [
    "plt.figure(figsize=(14,5))\n",
    "plt.title('distribución de los juegos con respecto al número total de usuarios')\n",
    "plt.plot(distribucion_juegos, conteo_juegos, color='olive')\n",
    "plt.fill_between(distribucion_juegos, conteo_juegos, color='greenyellow')\n",
    "plt.axvline(x=25, c='r', ls='--', label='umbral de 25 usuarios')\n",
    "plt.xlabel('número de usuarios')\n",
    "plt.ylabel('número de juegos')\n",
    "plt.legend(loc=0)\n",
    "plt.xlim(0,1500)\n",
    "plt.ylim(0)\n",
    "plt.grid()\n",
    "plt.show()"
   ]
  },
  {
   "cell_type": "code",
   "execution_count": 32,
   "metadata": {},
   "outputs": [
    {
     "name": "stdout",
     "output_type": "stream",
     "text": [
      "número de juegos con 25 o más usuarios :  5442\n",
      "número de juegos con menos de 25 usuarios :  7380\n"
     ]
    }
   ],
   "source": [
    "print('número de juegos con 25 o más usuarios : ',len(distribucion_juegos.values[distribucion_juegos.values >= 25]))\n",
    "print('número de juegos con menos de 25 usuarios : ',len(distribucion_juegos.values[distribucion_juegos.values < 25]))"
   ]
  },
  {
   "cell_type": "code",
   "execution_count": 33,
   "metadata": {},
   "outputs": [
    {
     "name": "stdout",
     "output_type": "stream",
     "text": [
      "número de reseñas correspondientes a juegos con 25 o más usuarios :  4740135\n",
      "número de reseñas correspondientes a juegos con menos de 25 usuarios : 49648\n"
     ]
    }
   ],
   "source": [
    "print('número de reseñas correspondientes a juegos con 25 o más usuarios : ',\n",
    "      np.sum(distribucion_juegos.values[distribucion_juegos.values >= 25]))\n",
    "print('número de reseñas correspondientes a juegos con menos de 25 usuarios :',\n",
    "      np.sum(distribucion_juegos.values[distribucion_juegos.values < 25]))"
   ]
  },
  {
   "cell_type": "markdown",
   "metadata": {},
   "source": [
    "Si bien podemos ver que casi el 60% de los juegos están por debajo del umbral, estos juegos representan apenas el 1% del número total de reseñas, debido a que los juegos más populares tienen decenas o incluso cientos de miles de usuarios. Es por ello que definimos el umbral del número de usuarios por juego en 25."
   ]
  },
  {
   "cell_type": "code",
   "execution_count": 34,
   "metadata": {},
   "outputs": [
    {
     "data": {
      "image/png": "[encoded data removed]",
      "text/plain": [
       "<Figure size 1008x360 with 1 Axes>"
      ]
     },
     "metadata": {
      "needs_background": "light"
     },
     "output_type": "display_data"
    }
   ],
   "source": [
    "plt.figure(figsize = (14,5))\n",
    "max_user = 1200\n",
    "plt.title(\"histograma del número de usuarios por juego\")\n",
    "sns.histplot(data = distribucion_juegos[distribucion_juegos < max_user], bins = 50, color='forestgreen')\n",
    "plt.axvline(x=25, c='r', ls='--', label='umbral de 25 usuarios por juego')\n",
    "plt.xlabel(\"número de usuarios\")\n",
    "plt.ylabel(\"cantidad de juegos\")\n",
    "plt.yscale('log')\n",
    "plt.legend(loc=0)\n",
    "plt.xlim(0,max_user)\n",
    "plt.grid()\n",
    "plt.show()"
   ]
  },
  {
   "cell_type": "markdown",
   "metadata": {},
   "source": [
    "¿Cuáles son los juegos más jugados, y los menos jugados?"
   ]
  },
  {
   "cell_type": "code",
   "execution_count": 35,
   "metadata": {},
   "outputs": [
    {
     "name": "stdout",
     "output_type": "stream",
     "text": [
      "Los 20 juegos con más jugadores son los siguientes:\n",
      "\n",
      "['Team Fortress 2', 'Rust', 'Borderlands 2', 'Fallout 4', 'Robocraft', 'Grand Theft Auto V', 'Undertale', 'Warframe', 'DayZ', 'Portal 2', \"Garry's Mod\", 'Life is Strange - Episode 1', 'Starbound', 'Heroes &amp; Generals', 'Arma 3', 'ARK: Survival Evolved', 'H1Z1', \"Sid Meier's Civilization® V\", 'Mount &amp; Blade: Warband', 'Paladins®']\n"
     ]
    }
   ],
   "source": [
    "print('Los 20 juegos con más jugadores son los siguientes:\\n')\n",
    "print(list(distribucion_juegos.sort_values(ascending = False).index.map(dict(zip(data_games.id,data_games.title))))[:20])"
   ]
  },
  {
   "cell_type": "code",
   "execution_count": 36,
   "metadata": {},
   "outputs": [
    {
     "name": "stdout",
     "output_type": "stream",
     "text": [
      "Los 20 juegos con menos jugadores son los siguientes:\n",
      "\n",
      "['Burgle Bros.', 'Ohmicide', 'The Ables: Freepoint High', 'The Grimsworth Reports: Woodfall', 'Nakawak', 'Hearts of Chaos', 'Demesne', 'Kolbeinn', 'Drift Zone', 'The Secret of Pineview Forest', 'MotorSport Revolution', 'Easy French™ Platinum', 'LOGistICAL: USA - Florida', 'Military Life: Tank Simulator', 'Quadrant M4', 'Shiny', 'Nightmare Adventures: The Turning Thorn', 'Ragna Maya', 'Captain Lycop : Invasion of the Heters', 'My Coloring Book: Transport']\n"
     ]
    }
   ],
   "source": [
    "print('Los 20 juegos con menos jugadores son los siguientes:\\n')\n",
    "print(list(distribucion_juegos.sort_values(ascending = False).index.map(dict(zip(data_games.id,data_games.title))))[-20:])"
   ]
  },
  {
   "cell_type": "markdown",
   "metadata": {},
   "source": [
    "Para obtener un dataset más homogéneo eliminaremos los juegos menos populares y presentativos, para ello utilizaremos el umbral presentado arriba de 25 usuarios por juego."
   ]
  },
  {
   "cell_type": "code",
   "execution_count": 37,
   "metadata": {},
   "outputs": [],
   "source": [
    "lista_juegos_populares = list(distribucion_juegos.index[distribucion_juegos.values >= 25])\n",
    "data_reviews = data_reviews[data_reviews.product_id.isin(lista_juegos_populares)]"
   ]
  },
  {
   "cell_type": "code",
   "execution_count": 38,
   "metadata": {},
   "outputs": [
    {
     "name": "stdout",
     "output_type": "stream",
     "text": [
      "El Dataset Reviews tiene dimensiones:  (4740135, 4)\n"
     ]
    }
   ],
   "source": [
    "data_reviews = data_reviews.reset_index(drop = True)\n",
    "print('El Dataset Reviews tiene dimensiones: ',data_reviews.shape)"
   ]
  },
  {
   "cell_type": "markdown",
   "metadata": {},
   "source": [
    "#### Distribución de la variable 'username'"
   ]
  },
  {
   "cell_type": "code",
   "execution_count": 39,
   "metadata": {},
   "outputs": [
    {
     "name": "stdout",
     "output_type": "stream",
     "text": [
      "el número de usuarios existentes es :  2113932\n"
     ]
    }
   ],
   "source": [
    "print('el número de usuarios existentes es : ', len(np.unique(data_reviews.username)))"
   ]
  },
  {
   "cell_type": "code",
   "execution_count": 40,
   "metadata": {},
   "outputs": [
    {
     "name": "stdout",
     "output_type": "stream",
     "text": [
      "número de juegos por usuario\n",
      "\n",
      "Sarkoth               667\n",
      "Alex                  589\n",
      "Chris                 539\n",
      "Nick                  528\n",
      "Tom                   509\n",
      "                     ... \n",
      "⎝૦ઁᗝ૦ઁ⎠ WonderPinX      1\n",
      "BasS-Junkie-XL          1\n",
      "Fire Walk with Me       1\n",
      "vr                      1\n",
      "madarennep              1\n",
      "Name: username, Length: 2113932, dtype: int64\n"
     ]
    }
   ],
   "source": [
    "distribucion_usuarios = data_reviews.username.value_counts()\n",
    "print('número de juegos por usuario\\n')\n",
    "print(distribucion_usuarios)"
   ]
  },
  {
   "cell_type": "markdown",
   "metadata": {},
   "source": [
    "Veamos la distribución de los usuarios con respecto al total de juegos y a las reseñas que estos juegos representan. Utilizando esta distribución vamos  a determinar el valor adecuado para el umbral del número de juegos por usuario que será utilizado posteriormente para eliminar los usuarios con muy poco historial, hecho que dificulta encontrar recomendaciones para estos."
   ]
  },
  {
   "cell_type": "code",
   "execution_count": 41,
   "metadata": {},
   "outputs": [],
   "source": [
    "distribucion_usuarios = distribucion_usuarios.sort_values(ascending = True)\n",
    "conteo_usuarios = np.arange(1,len(distribucion_usuarios)+1)"
   ]
  },
  {
   "cell_type": "code",
   "execution_count": 42,
   "metadata": {
    "scrolled": true
   },
   "outputs": [
    {
     "data": {
      "image/png": "[encoded data removed]",
      "text/plain": [
       "<Figure size 1008x360 with 1 Axes>"
      ]
     },
     "metadata": {
      "needs_background": "light"
     },
     "output_type": "display_data"
    }
   ],
   "source": [
    "plt.figure(figsize=(14,5))\n",
    "plt.title('distribución de los usuarios con respecto al número total de juegos')\n",
    "plt.plot(distribucion_usuarios, conteo_usuarios, color='darkviolet')\n",
    "plt.fill_between(distribucion_usuarios, conteo_usuarios, color='violet')\n",
    "plt.axvline(x=12, c='r', ls='--', label='umbral de 12 juegos')\n",
    "plt.xlabel('número de juegos')\n",
    "plt.ylabel('número de usuarios')\n",
    "plt.legend(loc=0)\n",
    "plt.xlim(0,200)\n",
    "plt.ylim(0)\n",
    "plt.grid()\n",
    "plt.show()"
   ]
  },
  {
   "cell_type": "code",
   "execution_count": 43,
   "metadata": {},
   "outputs": [
    {
     "name": "stdout",
     "output_type": "stream",
     "text": [
      "número de usuarios con 12 o más juegos :  40748\n",
      "número de usuarios con menos de 12 juegos :  2073184\n"
     ]
    }
   ],
   "source": [
    "print('número de usuarios con 12 o más juegos : ', len(distribucion_usuarios.values[distribucion_usuarios.values >= 12]))\n",
    "print('número de usuarios con menos de 12 juegos : ', len(distribucion_usuarios.values[distribucion_usuarios.values < 12]))"
   ]
  },
  {
   "cell_type": "code",
   "execution_count": 44,
   "metadata": {},
   "outputs": [
    {
     "name": "stdout",
     "output_type": "stream",
     "text": [
      "número de reseñas correspondientes a usuarios con 12 o más juegos :  997597\n",
      "número de reseñas correspondientes a usuarios con menos de 12 juegos : 3742538\n"
     ]
    }
   ],
   "source": [
    "print('número de reseñas correspondientes a usuarios con 12 o más juegos : ',\n",
    "      np.sum(distribucion_usuarios.values[distribucion_usuarios.values >= 12]))\n",
    "print('número de reseñas correspondientes a usuarios con menos de 12 juegos :',\n",
    "      np.sum(distribucion_usuarios.values[distribucion_usuarios.values < 12]))"
   ]
  },
  {
   "cell_type": "markdown",
   "metadata": {},
   "source": [
    "Aunque solo el 2% de los usuarios cumple con el umbral propuesto para el número de juegos por usuario, vemos que estos usuarios corresponden al 32% de las reseñas, por lo tanto genera un dataset mucho más homogéneo y puede mejorar los resultados del modelo generado en el proyecto anterior. Es por ello que se define el umbral del número de juegos por usuario en 12."
   ]
  },
  {
   "cell_type": "code",
   "execution_count": 45,
   "metadata": {},
   "outputs": [
    {
     "data": {
      "image/png": "[encoded data removed]",
      "text/plain": [
       "<Figure size 1008x360 with 1 Axes>"
      ]
     },
     "metadata": {
      "needs_background": "light"
     },
     "output_type": "display_data"
    }
   ],
   "source": [
    "plt.figure(figsize = (14,5))\n",
    "max_games = 150\n",
    "plt.title(\"histograma del número de juegos por usuario\")\n",
    "sns.histplot(data = distribucion_usuarios[distribucion_usuarios < max_games], bins=np.arange(0.5,max_games+0.5), color='purple')\n",
    "plt.axvline(x=12, c='r', ls='--', label='umbral de 12 juegos por usuario')\n",
    "plt.xlabel(\"número de juegos\")\n",
    "plt.ylabel(\"cantidad de usuarios\")\n",
    "plt.yscale('log')\n",
    "plt.legend(loc=0)\n",
    "plt.xlim(0,max_games)\n",
    "plt.grid()\n",
    "plt.show()"
   ]
  },
  {
   "cell_type": "markdown",
   "metadata": {},
   "source": [
    "¿Cuales son los jugadores con mas juegos, y los que tienen menos?"
   ]
  },
  {
   "cell_type": "code",
   "execution_count": 46,
   "metadata": {},
   "outputs": [
    {
     "name": "stdout",
     "output_type": "stream",
     "text": [
      "Los 20 usuarios con más juegos son los siguientes:\n",
      "\n",
      "['Sarkoth', 'Alex', 'Chris', 'Nick', 'Tom', 'Saint Aaron', 'Dan', 'Matt', '123', 'Shadow', 'Mike', 'Jack', 'Bob', 'Red', 'Sam', 'John', 'Zero', 'Wolf', 'Blue', 'James']\n"
     ]
    }
   ],
   "source": [
    "print('Los 20 usuarios con más juegos son los siguientes:\\n')\n",
    "print(list(distribucion_usuarios.sort_values(ascending = False).index[:20]))"
   ]
  },
  {
   "cell_type": "code",
   "execution_count": 47,
   "metadata": {},
   "outputs": [
    {
     "name": "stdout",
     "output_type": "stream",
     "text": [
      "Los 20 usuarios con menos juegos son los siguientes:\n",
      "\n",
      "['ScreCnoKORN', 'Whispstar', 'thomas.brinkmann', 'Spacemustard', 'Buckerton', 'Moonblazer', 'shodenshow', 'Yajo89', 'Sir Bulle III', 'Speiso', 'Doktor Obvious', 'ServError', 'D1MeH', 'Charlard', 'OP DRIFTER', 'DEVIOUSTHEG', '[FestiveNapkins]Black', 'NixorGinix', 'Paint.exe', 'LOVECREAMPIE/YOUPORN.COM']\n"
     ]
    }
   ],
   "source": [
    "print('Los 20 usuarios con menos juegos son los siguientes:\\n')\n",
    "print(list(distribucion_usuarios.sort_values(ascending = False).index[-20:]))"
   ]
  },
  {
   "cell_type": "markdown",
   "metadata": {},
   "source": [
    "Utilizaremos el umbral de juegos por usuario para eliminar del dataset los usuarios con poco historial. "
   ]
  },
  {
   "cell_type": "code",
   "execution_count": 48,
   "metadata": {},
   "outputs": [],
   "source": [
    "lista_usuarios = list(distribucion_usuarios.index[distribucion_usuarios.values >= 12])\n",
    "data_reviews = data_reviews[data_reviews.username.isin(lista_usuarios)]"
   ]
  },
  {
   "cell_type": "code",
   "execution_count": 49,
   "metadata": {},
   "outputs": [
    {
     "name": "stdout",
     "output_type": "stream",
     "text": [
      "El Dataset Reviews tiene dimensiones:  (997597, 4)\n"
     ]
    }
   ],
   "source": [
    "data_reviews = data_reviews.reset_index(drop = True)\n",
    "print('El Dataset Reviews tiene dimensiones: ',data_reviews.shape)"
   ]
  },
  {
   "cell_type": "markdown",
   "metadata": {},
   "source": [
    "Eliminemos del dataset games los juegos que no cuentan con entradas en el dataset reviews, luego del preprocesamiento realizado en el dataset reviews"
   ]
  },
  {
   "cell_type": "code",
   "execution_count": 50,
   "metadata": {},
   "outputs": [],
   "source": [
    "juegos_existentes = list(np.unique(data_reviews.product_id))\n",
    "data_games = data_games[data_games.id.isin(juegos_existentes)]"
   ]
  },
  {
   "cell_type": "code",
   "execution_count": 51,
   "metadata": {},
   "outputs": [
    {
     "name": "stdout",
     "output_type": "stream",
     "text": [
      "El Dataset Games tiene dimensiones:  (5442, 7)\n"
     ]
    }
   ],
   "source": [
    "data_games = data_games.reset_index(drop = True)\n",
    "print('El Dataset Games tiene dimensiones: ',data_games.shape)"
   ]
  },
  {
   "cell_type": "markdown",
   "metadata": {},
   "source": [
    "#### Análisis de la descripción 'text'"
   ]
  },
  {
   "cell_type": "code",
   "execution_count": 93,
   "metadata": {},
   "outputs": [],
   "source": [
    "import nltk\n",
    "import re\n",
    "from nltk.util import ngrams\n",
    "\n",
    "stopwords = nltk.corpus.stopwords.words('english')"
   ]
  },
  {
   "cell_type": "markdown",
   "metadata": {},
   "source": [
    "Ahora que hemos realizado preprocesamiento al dataset para obtener un conjunto de referencias que indican una preferencia positiva (gusto del usuario por el juego), aplicaremos procesamiento de lenguaje natural (NLP) a la característica texto para identificar las palabras mas comunes en estas descripciones y corroborar que se traten de comentarios positivos.\n",
    "\n",
    "Filtraremos todas las stopwords (palabras comunes del lenguaje), las palabras con menos de 3 caracteres y algunas palabras muy comunes del texto (y sus variantes) que no nos informan mucho por si solas, como **game, play, time, level, also, still** entre otras."
   ]
  },
  {
   "cell_type": "code",
   "execution_count": 53,
   "metadata": {},
   "outputs": [
    {
     "name": "stdout",
     "output_type": "stream",
     "text": [
      "Wall time: 21min 21s\n"
     ]
    }
   ],
   "source": [
    "%%time\n",
    "\n",
    "todos_textos = []\n",
    "for texto in data_reviews.text:\n",
    "    texto = re.sub(\"[^a-zA-Z]\",\" \",str(texto))\n",
    "    texto = texto.lower()\n",
    "    texto = nltk.tokenize.word_tokenize(texto)\n",
    "    texto = [word for word in texto if word not in stopwords]      \n",
    "    texto = [word for word in texto if len(word)>2]\n",
    "    todos_textos.append(texto)\n",
    "\n",
    "todas_palabras = [word for texto in todos_textos for word in texto]"
   ]
  },
  {
   "cell_type": "code",
   "execution_count": 54,
   "metadata": {},
   "outputs": [],
   "source": [
    "filtrar = ['game','games','gameplay','play','played','playing','time','also','people','though',\n",
    "           'even','still','level','combat','characters']\n",
    "\n",
    "todas_palabras_filtradas = [word for word in todas_palabras if word not in filtrar]"
   ]
  },
  {
   "cell_type": "code",
   "execution_count": 55,
   "metadata": {},
   "outputs": [],
   "source": [
    "frecuencia_palabras = nltk.FreqDist(todas_palabras_filtradas)\n",
    "dataframe_words = pd.DataFrame(list(frecuencia_palabras.items()), columns = [\"Word\",\"Frequency\"])\n",
    "dataframe_words.sort_values('Frequency', ascending=False, inplace = True)\n",
    "dataframe_words.reset_index(drop = True, inplace=True)"
   ]
  },
  {
   "cell_type": "code",
   "execution_count": 56,
   "metadata": {},
   "outputs": [
    {
     "data": {
      "image/png": "[encoded data removed]",
      "text/plain": [
       "<Figure size 1008x360 with 1 Axes>"
      ]
     },
     "metadata": {
      "needs_background": "light"
     },
     "output_type": "display_data"
    }
   ],
   "source": [
    "num_words = 30\n",
    "plt.figure(figsize = (14,5))\n",
    "plt.title('Diagrama de barras para la frecuencia de las palabras en text')\n",
    "sns.barplot(x = dataframe_words.iloc[:num_words].Word, y = dataframe_words.iloc[:num_words].Frequency)\n",
    "plt.xlabel('Palabras')\n",
    "plt.ylabel('Frecuencia')\n",
    "plt.xticks(rotation=90)\n",
    "plt.grid()\n",
    "plt.show()"
   ]
  },
  {
   "cell_type": "markdown",
   "metadata": {},
   "source": [
    "Podemos observar entre las palabras mas comunes **like, good, one, fun, great, best, better, pretty, love, worth** entre otras, que tienen un sentido positivo, y ninguna de las palabras con sentido negativo como serían **bad, awfull, crash, terrible, worst**.\n",
    "\n",
    "Ahora realizaremos un análisis de bigramas y trigramas. en estos tambien filtraremos las stopwords y palabras con menos de 3 caracteres."
   ]
  },
  {
   "cell_type": "code",
   "execution_count": 57,
   "metadata": {},
   "outputs": [
    {
     "name": "stdout",
     "output_type": "stream",
     "text": [
      "Wall time: 25min 17s\n"
     ]
    }
   ],
   "source": [
    "%%time\n",
    "\n",
    "ngramas_2 = []\n",
    "ngramas_3 = []\n",
    "\n",
    "for texto in data_reviews.text:\n",
    "    texto = re.sub(\"[^a-zA-Z]\",\" \",str(texto))\n",
    "    texto = texto.lower()\n",
    "    texto = nltk.tokenize.word_tokenize(texto)\n",
    "    texto = [word for word in texto if word not in stopwords]\n",
    "    texto = [word for word in texto if len(word)>2]\n",
    "    texto = (' ').join(texto)\n",
    "    tokens = [token for token in texto.split(\" \") if token != \"\"]\n",
    "    tokens_2 = list(ngrams(tokens, 2))\n",
    "    tokens_3 = list(ngrams(tokens, 3))\n",
    "    ngramas_2.append(tokens_2)\n",
    "    ngramas_3.append(tokens_3)\n",
    "\n",
    "todos_ngramas_2 = [ngram for ngram_texto in ngramas_2 for ngram in ngram_texto]\n",
    "todos_ngramas_3 = [ngram for ngram_texto in ngramas_3 for ngram in ngram_texto]"
   ]
  },
  {
   "cell_type": "code",
   "execution_count": 58,
   "metadata": {},
   "outputs": [],
   "source": [
    "frecuencia_ngramas_2 = nltk.FreqDist(todos_ngramas_2)\n",
    "dataframe_ngramas_2 = pd.DataFrame(list(frecuencia_ngramas_2.items()), columns = [\"Word\",\"Frequency\"])\n",
    "dataframe_ngramas_2.sort_values('Frequency', ascending=False, inplace = True)\n",
    "dataframe_ngramas_2.reset_index(drop = True, inplace=True)"
   ]
  },
  {
   "cell_type": "code",
   "execution_count": 59,
   "metadata": {},
   "outputs": [],
   "source": [
    "frecuencia_ngramas_3 = nltk.FreqDist(todos_ngramas_3)\n",
    "dataframe_ngramas_3 = pd.DataFrame(list(frecuencia_ngramas_3.items()), columns = [\"Word\",\"Frequency\"])\n",
    "dataframe_ngramas_3.sort_values('Frequency', ascending=False, inplace = True)\n",
    "dataframe_ngramas_3.reset_index(drop = True, inplace=True)"
   ]
  },
  {
   "cell_type": "code",
   "execution_count": 60,
   "metadata": {},
   "outputs": [
    {
     "data": {
      "image/png": "[encoded data removed]",
      "text/plain": [
       "<Figure size 1008x360 with 1 Axes>"
      ]
     },
     "metadata": {
      "needs_background": "light"
     },
     "output_type": "display_data"
    }
   ],
   "source": [
    "num_ngrams = 30\n",
    "plt.figure(figsize = (14,5))\n",
    "plt.title('Diagrama de barras para la frecuencia de los bigramas en text')\n",
    "sns.barplot(x = dataframe_ngramas_2.iloc[:num_ngrams].Word, y = dataframe_ngramas_2.iloc[:num_ngrams].Frequency)\n",
    "plt.xlabel('bigramas')\n",
    "plt.ylabel('Frecuencia')\n",
    "plt.xticks(rotation=90)\n",
    "plt.grid()\n",
    "plt.show()"
   ]
  },
  {
   "cell_type": "code",
   "execution_count": 61,
   "metadata": {},
   "outputs": [
    {
     "data": {
      "image/png": "[encoded data removed]",
      "text/plain": [
       "<Figure size 1008x360 with 1 Axes>"
      ]
     },
     "metadata": {
      "needs_background": "light"
     },
     "output_type": "display_data"
    }
   ],
   "source": [
    "num_ngrams = 30\n",
    "plt.figure(figsize = (14,5))\n",
    "plt.title('Diagrama de barras para la frecuencia de los trigramas en text')\n",
    "sns.barplot(x = dataframe_ngramas_3.iloc[:num_ngrams].Word, y = dataframe_ngramas_3.iloc[:num_ngrams].Frequency)\n",
    "plt.xlabel('trigramas')\n",
    "plt.ylabel('Frecuencia')\n",
    "plt.xticks(rotation=90)\n",
    "plt.grid()\n",
    "plt.show()"
   ]
  },
  {
   "cell_type": "markdown",
   "metadata": {},
   "source": [
    "Vemos que entre los bigramas mas comunes están **(great, game),(good, game),(one, best),(fun, game),(recommend, game),(love, game),(like, game),(game, great),(really, good),(pretty, good)** entre otros, y entre los trigramas mas comunes están **(one, best, games),(best, game, ever),(highly, recommend, game),(would, recommend, game),(really, good, game),(one, favorite, games),(yes, yes, yes),(fun, fun, fun),(game, really, fun)** entre otros. \n",
    "\n",
    "Estos tienen un sentido positivo mucho mas claro que en análisis anterior, ya que ahora no contamos solo con palabras positivas si no con expresiones que indican claramente un sentimiento positivo. En ninguno de los bigramas o trigramas principales encontramos alguna expresión que denote un sentido negativo.\n",
    "\n",
    "Por ello se puede declarar que los comentarios de los usuarios hacia los juegos son positivos, como esperamos."
   ]
  },
  {
   "cell_type": "markdown",
   "metadata": {},
   "source": [
    "#### Dataset Games"
   ]
  },
  {
   "cell_type": "markdown",
   "metadata": {},
   "source": [
    "#### Distribución de la variable 'developer'"
   ]
  },
  {
   "cell_type": "code",
   "execution_count": 52,
   "metadata": {},
   "outputs": [
    {
     "name": "stdout",
     "output_type": "stream",
     "text": [
      "número de desarrolladores existentes :  3622\n"
     ]
    }
   ],
   "source": [
    "print('número de desarrolladores existentes : ', len(list(data_games.developer.value_counts().index)))"
   ]
  },
  {
   "cell_type": "code",
   "execution_count": 53,
   "metadata": {},
   "outputs": [
    {
     "name": "stdout",
     "output_type": "stream",
     "text": [
      "número de juegos por desarrollador\n",
      "\n",
      "Valve                                    24\n",
      "Square Enix                              20\n",
      "Choice of Games                          19\n",
      "KOEI TECMO GAMES CO., LTD.               18\n",
      "Telltale Games                           17\n",
      "                                         ..\n",
      "MachineGames                              1\n",
      "Red Winter Software                       1\n",
      "tobyfox                                   1\n",
      "Ironclad Games,Stardock Entertainment     1\n",
      "Mindware Studios                          1\n",
      "Name: developer, Length: 3622, dtype: int64\n"
     ]
    }
   ],
   "source": [
    "distribucion_desarrolladores = data_games.developer.value_counts()\n",
    "print('número de juegos por desarrollador\\n')\n",
    "print(distribucion_desarrolladores)"
   ]
  },
  {
   "cell_type": "code",
   "execution_count": 54,
   "metadata": {},
   "outputs": [
    {
     "data": {
      "image/png": "[encoded data removed]",
      "text/plain": [
       "<Figure size 1008x360 with 1 Axes>"
      ]
     },
     "metadata": {
      "needs_background": "light"
     },
     "output_type": "display_data"
    }
   ],
   "source": [
    "max_user = 25\n",
    "plt.figure(figsize = (14,5))\n",
    "plt.title(\"histograma del número de juegos por desarrollador\")\n",
    "sns.histplot(data = distribucion_desarrolladores[distribucion_desarrolladores < max_user], bins=np.arange(0.5,max_games+0.5), \n",
    "             color='coral')\n",
    "plt.xlabel(\"número de juegos\")\n",
    "plt.ylabel(\"cantidad de desarrolladores\")\n",
    "plt.yscale('log')\n",
    "plt.xlim(0,max_user)\n",
    "plt.grid()\n",
    "plt.show()"
   ]
  },
  {
   "cell_type": "markdown",
   "metadata": {},
   "source": [
    "#### Distribución de la variable 'price'"
   ]
  },
  {
   "cell_type": "code",
   "execution_count": 55,
   "metadata": {},
   "outputs": [],
   "source": [
    "price = []\n",
    "for element in data_games.price:\n",
    "    if type(element) == str:\n",
    "        element = element.lower()\n",
    "    price.append(element)\n",
    "\n",
    "data_games['price'] = price"
   ]
  },
  {
   "cell_type": "code",
   "execution_count": 56,
   "metadata": {},
   "outputs": [
    {
     "name": "stdout",
     "output_type": "stream",
     "text": [
      "Número de juegos free to Play:  427\n"
     ]
    }
   ],
   "source": [
    "print('Número de juegos free to Play: ', len(data_games[data_games.price == 'free to play']))"
   ]
  },
  {
   "cell_type": "code",
   "execution_count": 57,
   "metadata": {},
   "outputs": [
    {
     "name": "stdout",
     "output_type": "stream",
     "text": [
      "Número de juegos sin información del precio:  59\n"
     ]
    }
   ],
   "source": [
    "print('Número de juegos sin información del precio: ', data_games.price.isna().sum())"
   ]
  },
  {
   "cell_type": "code",
   "execution_count": 58,
   "metadata": {},
   "outputs": [],
   "source": [
    "data_games_with_prices = data_games[pd.to_numeric(data_games.price, errors='coerce').notnull()]"
   ]
  },
  {
   "cell_type": "markdown",
   "metadata": {},
   "source": [
    "Algunos estadisticos de la distribución de los precios"
   ]
  },
  {
   "cell_type": "code",
   "execution_count": 59,
   "metadata": {},
   "outputs": [
    {
     "name": "stdout",
     "output_type": "stream",
     "text": [
      "promedio : 14.39\n",
      "std :      16.93\n",
      "mínimo :   0.49\n",
      "Q1 :       6.99\n",
      "mediana :  9.99\n",
      "Q3 :       19.99\n",
      "máximo :   771.71\n"
     ]
    }
   ],
   "source": [
    "print('promedio : %0.2f' % (data_games_with_prices.price.mean()))\n",
    "print('std :      %0.2f' % (data_games_with_prices.price.std()))\n",
    "print('mínimo :   %0.2f' % (data_games_with_prices.price.min()))\n",
    "print('Q1 :       %0.2f' % (data_games_with_prices.price.quantile(0.25)))\n",
    "print('mediana :  %0.2f' % (data_games_with_prices.price.quantile(0.5)))\n",
    "print('Q3 :       %0.2f' % (data_games_with_prices.price.quantile(0.75)))\n",
    "print('máximo :   %0.2f' % (data_games_with_prices.price.max()))"
   ]
  },
  {
   "cell_type": "code",
   "execution_count": 60,
   "metadata": {},
   "outputs": [
    {
     "data": {
      "image/png": "[encoded data removed]",
      "text/plain": [
       "<Figure size 1008x360 with 2 Axes>"
      ]
     },
     "metadata": {
      "needs_background": "light"
     },
     "output_type": "display_data"
    }
   ],
   "source": [
    "plt.figure(figsize = (14,5))\n",
    "plt.subplot(1,2,1)\n",
    "max_price = 40\n",
    "sns.boxplot(y = data_games_with_prices.price[data_games_with_prices.price<max_price], color='goldenrod')\n",
    "plt.title(\"diagrama de cajas del costo de los juegos\")\n",
    "plt.ylabel(\"costo del juego\")\n",
    "plt.grid()\n",
    "plt.subplot(1,2,2)\n",
    "sns.histplot(data = data_games_with_prices.price[data_games_with_prices.price<max_price], \n",
    "             bins = np.arange(0.5,max_games+0.5), color='goldenrod')\n",
    "plt.title(\"Histograma del costo por juego\")\n",
    "plt.xlabel(\"costo del juego\")\n",
    "plt.ylabel(\"número de juegos\")\n",
    "plt.xlim(0,max_price)\n",
    "plt.grid()\n",
    "plt.show()"
   ]
  },
  {
   "cell_type": "markdown",
   "metadata": {},
   "source": [
    "¿Cuales son los juegos mas caros, y los mas baratos?"
   ]
  },
  {
   "cell_type": "code",
   "execution_count": 61,
   "metadata": {},
   "outputs": [
    {
     "name": "stdout",
     "output_type": "stream",
     "text": [
      "Los 20 juegos mas costosos son los siguientes:\n",
      "\n",
      "['X-Plane 10 Global - 64 Bit', 'MODO indie 10', 'Pinball FX3', 'VEGAS Pro 14 Edit Steam Edition', 'ACE - Arena: Cyber Evolution', 'RaceRoom Racing Experience', 'HIS (Heroes In the Sky)', 'Silo 2', 'GameMaker Studio 2 Desktop', 'Clickteam Fusion 2.5', '3D-Coat V4.8', 'HEX: Shards of Fate', 'RPG Maker MV', \"Gary Grigsby's War in the East\", 'Command: Modern Air / Naval Operations WOTY', 'AppGameKit: Easy Game Development', 'Sleeping Dogs', 'SMILE GAME BUILDER', 'RPG Maker VX Ace', 'SEGA Mega Drive and Genesis Classics']\n"
     ]
    }
   ],
   "source": [
    "print('Los 20 juegos mas costosos son los siguientes:\\n')\n",
    "print(list(data_games_with_prices.sort_values(by=['price','title'], ascending=False).title.values)[:20])"
   ]
  },
  {
   "cell_type": "code",
   "execution_count": 62,
   "metadata": {},
   "outputs": [
    {
     "name": "stdout",
     "output_type": "stream",
     "text": [
      "Los 20 juegos mas baratos son los siguientes:\n",
      "\n",
      "['Fate Tectonics', 'Out There Somewhere', 'Super Star Path', 'PARTICLE MACE', '#monstercakes', '1 Moment Of Time: Silentville', '3DRPG', \"A Detective's Novel\", 'A grande bagunça espacial - The big space mess', 'Alpha Runner', 'Ampersand', 'Bacteria', \"Bad Rats: the Rats' Revenge\", 'Bit Blaster XL', 'Blacklight: Tango Down', 'Blitz Breaker', 'Blood and Bacon', 'CRACKHEAD', 'Catch a Falling Star', 'Cats are Liquid']\n"
     ]
    }
   ],
   "source": [
    "print('Los 20 juegos mas baratos son los siguientes:\\n')\n",
    "print(list(data_games_with_prices.sort_values(by=['price','title'], ascending=True).title.values)[:20])"
   ]
  },
  {
   "cell_type": "markdown",
   "metadata": {},
   "source": [
    "#### Distribución de la variable 'genres'"
   ]
  },
  {
   "cell_type": "code",
   "execution_count": 63,
   "metadata": {},
   "outputs": [],
   "source": [
    "generos = []\n",
    "for lista in data_games.genres:\n",
    "    if type(lista) == list:\n",
    "        generos.append(lista)"
   ]
  },
  {
   "cell_type": "code",
   "execution_count": 64,
   "metadata": {},
   "outputs": [],
   "source": [
    "generos = [item \n",
    "           for sublist in generos\n",
    "           for item in sublist]"
   ]
  },
  {
   "cell_type": "code",
   "execution_count": 65,
   "metadata": {},
   "outputs": [],
   "source": [
    "index_generos = list(np.unique(generos))\n",
    "values_generos = [generos.count(item) for item in index_generos]\n",
    "\n",
    "distribucion_generos = pd.Series(values_generos, index = index_generos) \n",
    "distribucion_generos = distribucion_generos.sort_values(ascending=False)"
   ]
  },
  {
   "cell_type": "code",
   "execution_count": 66,
   "metadata": {},
   "outputs": [
    {
     "name": "stdout",
     "output_type": "stream",
     "text": [
      "distribución de los generos por número de juegos:\n",
      "\n",
      "Indie                        3077\n",
      "Action                       2424\n",
      "Adventure                    1900\n",
      "Strategy                     1456\n",
      "RPG                          1285\n",
      "Casual                       1021\n",
      "Simulation                    993\n",
      "Free to Play                  510\n",
      "Early Access                  388\n",
      "Massively Multiplayer         278\n",
      "Sports                        218\n",
      "Racing                        201\n",
      "Utilities                      45\n",
      "Design &amp; Illustration      32\n",
      "Animation &amp; Modeling       26\n",
      "Web Publishing                 18\n",
      "Video Production               17\n",
      "Education                      12\n",
      "Software Training              12\n",
      "Audio Production               10\n",
      "Photo Editing                   4\n",
      "dtype: int64\n"
     ]
    }
   ],
   "source": [
    "print('distribución de los generos por número de juegos:\\n')\n",
    "print(distribucion_generos)"
   ]
  },
  {
   "cell_type": "code",
   "execution_count": 67,
   "metadata": {},
   "outputs": [
    {
     "data": {
      "image/png": "[encoded data removed]",
      "text/plain": [
       "<Figure size 1008x360 with 1 Axes>"
      ]
     },
     "metadata": {
      "needs_background": "light"
     },
     "output_type": "display_data"
    }
   ],
   "source": [
    "plt.figure(figsize = (14,5))\n",
    "plt.title('Diagrama de barras para los géneros')\n",
    "sns.barplot(x = distribucion_generos.index, y = distribucion_generos.values)\n",
    "plt.xlabel('Géneros')\n",
    "plt.ylabel('Frecuencia')\n",
    "plt.xticks(rotation=90)\n",
    "plt.grid()\n",
    "plt.show()"
   ]
  },
  {
   "cell_type": "markdown",
   "metadata": {},
   "source": [
    "#### Distribución de la variable 'tags'"
   ]
  },
  {
   "cell_type": "code",
   "execution_count": 68,
   "metadata": {},
   "outputs": [],
   "source": [
    "etiquetas = []\n",
    "for lista in data_games.tags:\n",
    "    if type(lista) == list:\n",
    "        etiquetas.append(lista)"
   ]
  },
  {
   "cell_type": "code",
   "execution_count": 69,
   "metadata": {},
   "outputs": [],
   "source": [
    "etiquetas = [item \n",
    "            for sublist in etiquetas\n",
    "            for item in sublist]"
   ]
  },
  {
   "cell_type": "code",
   "execution_count": 70,
   "metadata": {},
   "outputs": [],
   "source": [
    "index_etiquetas = list(np.unique(etiquetas))\n",
    "values_etiquetas = [etiquetas.count(item) for item in index_etiquetas]\n",
    "\n",
    "distribucion_etiquetas = pd.Series(values_etiquetas, index = index_etiquetas) \n",
    "distribucion_etiquetas = distribucion_etiquetas.sort_values(ascending=False)"
   ]
  },
  {
   "cell_type": "code",
   "execution_count": 71,
   "metadata": {},
   "outputs": [
    {
     "name": "stdout",
     "output_type": "stream",
     "text": [
      "distribución de las etiquetas por número de juegos:\n",
      "\n",
      "Indie            3332\n",
      "Singleplayer     2932\n",
      "Action           2892\n",
      "Adventure        2649\n",
      "Strategy         1766\n",
      "                 ... \n",
      "Steam Machine       2\n",
      "Hardware            2\n",
      "Faith               1\n",
      "Underground         1\n",
      "Foreign             1\n",
      "Length: 335, dtype: int64\n"
     ]
    }
   ],
   "source": [
    "print('distribución de las etiquetas por número de juegos:\\n')\n",
    "print(distribucion_etiquetas)"
   ]
  },
  {
   "cell_type": "code",
   "execution_count": 72,
   "metadata": {},
   "outputs": [
    {
     "data": {
      "image/png": "[encoded data removed]",
      "text/plain": [
       "<Figure size 1008x360 with 1 Axes>"
      ]
     },
     "metadata": {
      "needs_background": "light"
     },
     "output_type": "display_data"
    }
   ],
   "source": [
    "num_etiquetas = 30\n",
    "plt.figure(figsize = (14,5))\n",
    "plt.title('Diagrama de barras para las etiquetas')\n",
    "sns.barplot(x = distribucion_etiquetas[:num_etiquetas].index, y = distribucion_etiquetas[:num_etiquetas].values)\n",
    "plt.xlabel('Etiquetas')\n",
    "plt.ylabel('Frecuencia')\n",
    "plt.xticks(rotation=90)\n",
    "plt.grid()\n",
    "plt.show()"
   ]
  },
  {
   "cell_type": "markdown",
   "metadata": {},
   "source": [
    "#### Distribución de la variable 'specs'"
   ]
  },
  {
   "cell_type": "code",
   "execution_count": 73,
   "metadata": {},
   "outputs": [],
   "source": [
    "especificaciones = []\n",
    "for lista in data_games.specs:\n",
    "    if type(lista) == list:\n",
    "        especificaciones.append(lista)"
   ]
  },
  {
   "cell_type": "code",
   "execution_count": 74,
   "metadata": {},
   "outputs": [],
   "source": [
    "especificaciones = [item \n",
    "                   for sublist in especificaciones\n",
    "                   for item in sublist]"
   ]
  },
  {
   "cell_type": "code",
   "execution_count": 75,
   "metadata": {},
   "outputs": [],
   "source": [
    "index_especificaciones = list(np.unique(especificaciones))\n",
    "values_especificaciones = [especificaciones.count(item) for item in index_especificaciones]\n",
    "\n",
    "distribucion_especificaciones = pd.Series(values_especificaciones, index = index_especificaciones) \n",
    "distribucion_especificaciones = distribucion_especificaciones.sort_values(ascending=False)"
   ]
  },
  {
   "cell_type": "code",
   "execution_count": 76,
   "metadata": {},
   "outputs": [
    {
     "name": "stdout",
     "output_type": "stream",
     "text": [
      "distribución de las especificaciones por número de juegos:\n",
      "\n",
      "Single-player                 4979\n",
      "Steam Achievements            3521\n",
      "Steam Trading Cards           2969\n",
      "Steam Cloud                   2296\n",
      "Multi-player                  1625\n",
      "Full controller support       1458\n",
      "Partial Controller Support    1009\n",
      "Steam Leaderboards             987\n",
      "Co-op                          720\n",
      "Stats                          534\n",
      "Online Multi-Player            512\n",
      "Shared/Split Screen            494\n",
      "Cross-Platform Multiplayer     439\n",
      "Steam Workshop                 406\n",
      "Includes level editor          390\n",
      "In-App Purchases               271\n",
      "Captions available             266\n",
      "Online Co-op                   252\n",
      "MMO                            235\n",
      "Local Multi-Player             189\n",
      "Local Co-op                    141\n",
      "Valve Anti-Cheat enabled       101\n",
      "Commentary available            56\n",
      "Includes Source SDK             31\n",
      "Steam Turn Notifications        23\n",
      "Mods                            10\n",
      "Mods (require HL2)               8\n",
      "Downloadable Content             5\n",
      "dtype: int64\n"
     ]
    }
   ],
   "source": [
    "print('distribución de las especificaciones por número de juegos:\\n')\n",
    "print(distribucion_especificaciones)"
   ]
  },
  {
   "cell_type": "code",
   "execution_count": 77,
   "metadata": {},
   "outputs": [
    {
     "data": {
      "image/png": "[encoded data removed]",
      "text/plain": [
       "<Figure size 1008x360 with 1 Axes>"
      ]
     },
     "metadata": {
      "needs_background": "light"
     },
     "output_type": "display_data"
    }
   ],
   "source": [
    "plt.figure(figsize = (14,5))\n",
    "plt.title('Diagrama de barras para las especificaciones')\n",
    "sns.barplot(x = distribucion_especificaciones.index, y = distribucion_especificaciones.values)\n",
    "plt.xlabel('Especificaciones')\n",
    "plt.ylabel('Frecuencia')\n",
    "plt.xticks(rotation=90)\n",
    "plt.grid()\n",
    "plt.show()"
   ]
  },
  {
   "cell_type": "markdown",
   "metadata": {},
   "source": [
    "#### generación de las preferencias y los indices de usuario y juego continuos"
   ]
  },
  {
   "cell_type": "markdown",
   "metadata": {},
   "source": [
    "Debido a que previamente realizamos un preprocesamiento para obtener solo las reseñas positivas (que indican gusto de un usuario por un juego), la caracteristica rating tomará el valor de 1 para todas las reseñas existente."
   ]
  },
  {
   "cell_type": "code",
   "execution_count": 78,
   "metadata": {},
   "outputs": [],
   "source": [
    "data_reviews['ratings'] = 1"
   ]
  },
  {
   "cell_type": "markdown",
   "metadata": {},
   "source": [
    "Ahora vamos a generar una identificación numérica continua para los usuarios"
   ]
  },
  {
   "cell_type": "code",
   "execution_count": 79,
   "metadata": {},
   "outputs": [],
   "source": [
    "usuarios = list(np.unique(data_reviews.username))\n",
    "usuarios_encooded = np.arange(0,len(usuarios))"
   ]
  },
  {
   "cell_type": "code",
   "execution_count": 80,
   "metadata": {},
   "outputs": [],
   "source": [
    "data_reviews['user_id'] = data_reviews.username.map(dict(zip(usuarios,usuarios_encooded)))"
   ]
  },
  {
   "cell_type": "markdown",
   "metadata": {},
   "source": [
    "Finalmente generaremos una identificación numérica continua para los juegos, que debemos reemplazar en ambos datasets"
   ]
  },
  {
   "cell_type": "code",
   "execution_count": 81,
   "metadata": {},
   "outputs": [],
   "source": [
    "juegos = list(np.unique(data_reviews.product_id))\n",
    "juegos_encooded = np.arange(0,len(juegos))"
   ]
  },
  {
   "cell_type": "code",
   "execution_count": 82,
   "metadata": {},
   "outputs": [],
   "source": [
    "data_reviews['game_id'] = data_reviews.product_id.map(dict(zip(juegos,juegos_encooded)))"
   ]
  },
  {
   "cell_type": "code",
   "execution_count": 83,
   "metadata": {},
   "outputs": [],
   "source": [
    "data_games['game_id'] = data_games.id.map(dict(zip(juegos,juegos_encooded)))"
   ]
  },
  {
   "cell_type": "markdown",
   "metadata": {},
   "source": [
    "#### Contrucción de una matriz de contenidos para los juegos"
   ]
  },
  {
   "cell_type": "markdown",
   "metadata": {},
   "source": [
    "A partir del dataset games contruiremos una matriz que albergue los contenidos como variables one hot encoding. Esta será utilizada para el desarrollo de un modelo adicional basado en contenidos"
   ]
  },
  {
   "cell_type": "code",
   "execution_count": 94,
   "metadata": {},
   "outputs": [],
   "source": [
    "from sklearn.preprocessing import MultiLabelBinarizer\n",
    "from sklearn.preprocessing import OneHotEncoder\n",
    "from sklearn.feature_extraction.text import CountVectorizer\n",
    "\n",
    "pd.options.mode.chained_assignment = None "
   ]
  },
  {
   "cell_type": "code",
   "execution_count": 95,
   "metadata": {},
   "outputs": [],
   "source": [
    "data_games_prueba = data_games.copy()"
   ]
  },
  {
   "cell_type": "markdown",
   "metadata": {},
   "source": [
    "Lo primero que haremos es unir todas las caracteristicas que contiene la columna géneros, etiquetas y specificaciones, y codificar cada una en una variable dummy, que toma los valores de 1 o 0 para juegos si este juego posee dicha caracteristica o no"
   ]
  },
  {
   "cell_type": "code",
   "execution_count": 96,
   "metadata": {},
   "outputs": [],
   "source": [
    "data_games_prueba['allwords'] = data_games_prueba.genres + data_games_prueba.tags + data_games_prueba.specs\n",
    "data_games_prueba.fillna(value='', inplace=True)"
   ]
  },
  {
   "cell_type": "code",
   "execution_count": 97,
   "metadata": {},
   "outputs": [],
   "source": [
    "mlb = MultiLabelBinarizer()\n",
    "data_encooded1 = mlb.fit_transform(data_games_prueba['allwords'])\n",
    "data_encooded1 = pd.DataFrame(data_encooded1,columns=mlb.classes_).reset_index(drop = True)\n",
    "data_encooded1 = data_encooded1.astype(int)"
   ]
  },
  {
   "cell_type": "markdown",
   "metadata": {},
   "source": [
    "Ahora tomaremos la columna desarrolladores y generaremos variables dummy con cada empresa desarroladora. Utilizaremos solo aquellos desarrolladores que tienen 5 o mas juegos para no llenar el dataset de una gran mayoria de pequeños desarrolladores."
   ]
  },
  {
   "cell_type": "code",
   "execution_count": 98,
   "metadata": {},
   "outputs": [],
   "source": [
    "desarrolladores = data_games_prueba.developer.value_counts()\n",
    "desarrolladores = list(desarrolladores.index[desarrolladores.values>=5])\n",
    "data_games_prueba.developer.loc[~data_games_prueba.developer.isin(desarrolladores)] = ''"
   ]
  },
  {
   "cell_type": "code",
   "execution_count": 99,
   "metadata": {},
   "outputs": [],
   "source": [
    "ohe = OneHotEncoder(sparse=False) \n",
    "data_encooded2 = ohe.fit_transform(data_games_prueba['developer'].values.reshape(-1,1))\n",
    "data_encooded2 = pd.DataFrame(data_encooded2,columns=ohe.categories_).reset_index(drop = True)\n",
    "data_encooded2.drop([''], axis=1, inplace=True)\n",
    "data_encooded2 = data_encooded2.astype(int)"
   ]
  },
  {
   "cell_type": "markdown",
   "metadata": {},
   "source": [
    "Finalmente tomaremos la columna titulos y realizaremos algo de preprocesamiento de lenguaje natural (NLP) para eliminar simbolos y stopwords de estos. con los titulos obtenidos realizamos una vectorización (representación binaria de cada palabra como  en el conjunto total de títulos como una variable dummy). limitaremos la vectorización a las 600 palabras mas comunes para no hacer un dataset innecesariamente enorme."
   ]
  },
  {
   "cell_type": "code",
   "execution_count": 100,
   "metadata": {},
   "outputs": [],
   "source": [
    "titulos = list(data_games_prueba.title.values)\n",
    "\n",
    "filtrar = ['edition','game','online','amp','iii','rpg','remastered']"
   ]
  },
  {
   "cell_type": "code",
   "execution_count": 101,
   "metadata": {},
   "outputs": [],
   "source": [
    "todos_titulos = []\n",
    "\n",
    "for titulo in titulos:\n",
    "    titulo = re.sub(\"[^a-zA-Z]\",\" \",str(titulo))\n",
    "    titulo = titulo.lower()\n",
    "    titulo = nltk.tokenize.word_tokenize(titulo)\n",
    "    titulo = [word for word in titulo if word not in stopwords]      \n",
    "    titulo = [word for word in titulo if word not in filtrar]\n",
    "    titulo = [word for word in titulo if len(word)>2]\n",
    "    titulo = (' ').join(titulo)\n",
    "    todos_titulos.append(titulo)"
   ]
  },
  {
   "cell_type": "code",
   "execution_count": 102,
   "metadata": {},
   "outputs": [],
   "source": [
    "covec = CountVectorizer(max_features=600)\n",
    "data_encooded3 = covec.fit_transform(todos_titulos)\n",
    "data_encooded3 = data_encooded3.toarray()\n",
    "data_encooded3 = data_encooded3.astype(int)\n",
    "data_encooded3 = pd.DataFrame(data_encooded3,columns=covec.get_feature_names()).reset_index(drop = True)"
   ]
  },
  {
   "cell_type": "markdown",
   "metadata": {},
   "source": [
    "finalmente concatenamos cada uno de los 3 datasets que acabamos de crear, junto con la codificación de cada juego, que utilizaremos como indice del dataset final"
   ]
  },
  {
   "cell_type": "code",
   "execution_count": 103,
   "metadata": {},
   "outputs": [],
   "source": [
    "data_games_content = pd.concat([data_games_prueba[['game_id']], data_encooded1, data_encooded2, data_encooded3], axis=1)\n",
    "data_games_content.set_index('game_id', inplace=True)\n",
    "data_games_content.sort_index(inplace = True)"
   ]
  },
  {
   "cell_type": "markdown",
   "metadata": {},
   "source": [
    "#### Eliminamos la información innecesaria para el desarrollo del sistema de recomendación"
   ]
  },
  {
   "cell_type": "code",
   "execution_count": 104,
   "metadata": {},
   "outputs": [],
   "source": [
    "data_reviews.drop(['hours','product_id','text'],axis=1, inplace=True)"
   ]
  },
  {
   "cell_type": "code",
   "execution_count": 105,
   "metadata": {},
   "outputs": [],
   "source": [
    "data_games.drop(['genres','tags','specs','price','id','developer'],axis=1, inplace=True)"
   ]
  },
  {
   "cell_type": "markdown",
   "metadata": {},
   "source": [
    "#### Vamos a guardar los datasets modificados como archivos .csv"
   ]
  },
  {
   "cell_type": "code",
   "execution_count": 106,
   "metadata": {},
   "outputs": [],
   "source": [
    "data_reviews.to_csv('data_reviews.csv', index= False)\n",
    "data_games.to_csv('data_games.csv', index= False)\n",
    "data_games_content.to_csv('data_games_content.csv', index= False)"
   ]
  },
  {
   "cell_type": "code",
   "execution_count": 107,
   "metadata": {},
   "outputs": [],
   "source": [
    "data_reviews = pd.read_csv('data_reviews.csv')\n",
    "data_games = pd.read_csv('data_games.csv')\n",
    "data_games_content = pd.read_csv('data_games_content.csv')"
   ]
  },
  {
   "cell_type": "markdown",
   "metadata": {},
   "source": [
    "### Formulación y desarrollo del sistema de recomendación"
   ]
  },
  {
   "cell_type": "markdown",
   "metadata": {},
   "source": [
    "Para la implementación de los modelos utilizaremos la librería [Implicit](https://implicit.readthedocs.io/en/latest/), que se especializa en el manejo de Datasets de feedback implicito.\n",
    "\n",
    "Para la optimización de los modelos utilizaremos la libreria [scikit-optimize](https://scikit-optimize.github.io/stable/), que nos permite desarrollar una optimización bayesiana, lo que reduce considerablemente el tiempo de optimización de los hiperparámetros, comparado con la optimización con grilla desarrollada en el proyecto 3.\n",
    "\n",
    "De esta manera, realizamos todas las importaciones de librerias pertinentes."
   ]
  },
  {
   "cell_type": "code",
   "execution_count": 3,
   "metadata": {},
   "outputs": [],
   "source": [
    "from scipy import sparse\n",
    "\n",
    "from implicit.als import AlternatingLeastSquares\n",
    "from implicit.nearest_neighbours import CosineRecommender, BM25Recommender\n",
    "from implicit.evaluation import train_test_split, ranking_metrics_at_k\n",
    "from sklearn.metrics.pairwise import cosine_similarity\n",
    "\n",
    "from skopt import gp_minimize\n",
    "from skopt.space import Integer, Real\n",
    "from skopt.utils import use_named_args\n",
    "from skopt.callbacks import DeltaYStopper, DeadlineStopper\n",
    "from skopt.plots import plot_convergence\n",
    "\n",
    "import os\n",
    "os.environ['MKL_NUM_THREADS'] = '1'\n",
    "\n",
    "import warnings\n",
    "warnings.filterwarnings('ignore', message='The objective has been evaluated at this point before.')"
   ]
  },
  {
   "cell_type": "markdown",
   "metadata": {},
   "source": [
    "#### Presentación de los modelos y métrica utilizados "
   ]
  },
  {
   "cell_type": "markdown",
   "metadata": {},
   "source": [
    "Los sistemas de recomendación recolectan la información sobre las preferencia de los usuarios y a partir de esta les presentan nuevos items que sean de su interes, sin preguntarles explicitamente por lo que prefieren. Permiten ampliar el catálogo de productos a ofrecer ya que evita el fenómeno conocido como [long tail](https://medium.com/@kyasar.mail/recommender-systems-what-long-tail-tells-91680f10a5b2) y ademas le ahorra mucho tiempo al usuario que pasaría buscando los items de su preferencia, lo que mejora su experiencia como consumidor. Los sistemas de recomendación se dividen principalmente en dos tipos, basado en contenidos y de filtro colaborativo\n",
    "\n",
    "**sistemas basados en contenido**: usan las caracteristicas de los items por los cuales un usuario tiene preferencia para recomendar otros items similares a estos al usuario. Por ejemplo, si el usuario siente preferencia por los juegos de deportes desarrollados por la empresa EA, los items recomendados tendrán estas mismas caracteristicas. Estos sistemas utilizan medidas de similitud entre las caracteristicas de los items para determinar cuales son mas similares entre si y partir de estas desarrollad un algoritmo de K vecinos mas cercanos (KNN)\n",
    "\n",
    "**sistemas de filtro colaborativo**: busca similitudes entre usuarios e items para recomendar a un usuario especifico los items por los cuales los usuarios mas similares a este tienen preferencia. Por ejemplo si el usuario tiene preferencia por los juegos de deportes y otros jugadores tienen preferencia por juegos de deporte de manera similar al usuario y ademas tiene preferencia por juegos de ciencia ficción, al usuario pueden ser recomendados estos juegos de ciencia ficción esperando que al igual que otros usuarios similares tenga preferencia por estos. Los sistemas de recomendación del tipo de filtro colaborativo se dividen en dos grupos:\n",
    "\n",
    "1. Basados en memoria: Estos utilizan el conjunto completo de los datos y desarrollan medidas de similitud entre estos para encontrar similitudes entre conjuntos de items y de usuarios. Los algoritmos de K vecinos mas cercanos (KNN) son un ejemplo.\n",
    "2. Basados en modelo: Estos desarrollan diversos modelos de aprendizaje automatico, como pueden ser factorización de matrices (MF) , Descomposición de valores singulares (SVD) o redes neuronales, y a partir de ellos determinan las relaciones entre items y usuarios.\n",
    "\n",
    "En estos proyecto desarrollaremos un algoritmo basado en contenidos (utilizando las caracteristicas de los juegos proveidas en el dataset games), dos algoritmos de filtro colaborativo basados en memoria (uno utilizando medida de similitud coseno y otro BM25) y un algoritmo de filtro colaborativo basado en modelo que utiliza factorización matricial. Ademas compararemos el rendimiento de estos enfoques con un caso de referencia, que corresponde a la recomendación segun el Top de popularidad de los items. A continuación explicaremos mas en detalle los algoritmos utilizados"
   ]
  },
  {
   "cell_type": "markdown",
   "metadata": {},
   "source": [
    "#### Algoritmo de K vecinos mas cercanos (KNN)"
   ]
  },
  {
   "cell_type": "markdown",
   "metadata": {},
   "source": [
    "El algoritmo de KNN considera los K elementos (siendo K un hiperparámetro) mas cercanos al elemento del cual se desea predecir su interacción o preferencia y califica dicha interacción segun la observación de las interacciones conocidas cercanas. Para el desarrollo de este enfoque debe definirse una medida de la cercania  o similitud entre las observaciones, algunas de las mas conocidas son similitud coseno, jacard. En el campo de la recuperación de información algunas medidas de similitud son [BM25](https://sigir-ecom.github.io/ecom18DCPapers/ecom18DC_paper_8.pdf) y TFIDF.\n",
    "\n",
    "Para cada usuario $u$ dentro del conjunto total de usuarios $U$ y cada par de items $i,j$ dentro del conjunto total de items $I$ la medida de similitud coseno se presenta a continuación\n",
    "\n",
    "$$ Sim_{i,j} = \\displaystyle \\frac{\\sum_{u\\in U_{i,j}} r_{u,i} \\cdot r_{u,j}}\n",
    "{\\sqrt{\\sum_{u\\in U_{i,j}} r_{u,i}^{2}} \\cdot \\sqrt{\\sum_{u\\in U_{i,j}} r_{u,j}^{2}}} $$\n",
    "\n",
    "Donde $r_{ui}$ es la interacción de un usuario $u$ por un item $i$. Esta medida toma valores entre -1 y 1 y mientras mas cercana a 1 indica una mayor preferencia\n",
    "\n",
    "La medida de similitud BM25, viene originalmente de un algoritmo de calificación para asignar relevancia, desarrollado en el campo del procesamiento de lenguaje natural (NLP), y a partir de de este se presentó posteriormente una medida de similitud basada en una función de puntuación [que se detalla aquí](http://ipl.cs.aueb.gr/stougiannis/bm25.html#:~:text=The%20BM25%20similarity%20function&text=%7C%20d%20%7C%20is%20the%20length%20of,the%20documents%20of%20the%20collection.)\n",
    "\n",
    "En el sistema de recomendación basado en contenidos desarrollado emplea media de similitud coseno a sobre la matriz de caracteristicas de los items y los sistemas tipo filtro colaborativo basados en memoria utilizan medidas de similitud coseno y BM25 sobre la matriz de utilidad item - usuario."
   ]
  },
  {
   "cell_type": "markdown",
   "metadata": {},
   "source": [
    "#### Modelo de mínimos cuadrados alternantes (ALS)"
   ]
  },
  {
   "cell_type": "markdown",
   "metadata": {},
   "source": [
    "El modelo de mínimos cuadrados alternantes está basado en el algoritmo presentado en el artículo [Collaborative Filtering for Implicit Feedback Datasets](http://yifanhu.net/PUB/cf.pdf), este es un modelo de factores latentes, al igual que SVD. Este tipo de modelos tipicamente asocian cada usuario $u$ dentro del conjunto total de usuarios $U$ con un vector factor usuario $x_{u}$ y cada item $i$ dentro del conjunto total de items $I$ con un vector factor item $y_{i}$. \n",
    "\n",
    "Debido a que estamos desarrollando un modelo implicito, vamos a introducir un conjunto de variables binarias $p_{ui}$ que indican la preferencia de un usuario $u$ por un item $i$. Los valores de $p_{ui}$ se derivan de la binarización de los valores $r_{ui}$ como se da a continuación\n",
    "\n",
    "$$p_{ui}=\\begin{cases} 1& \\ r_{ui} \t\\geq 5\\\\ 0& \\ r_{ui} < 5 \\end{cases}$$\n",
    "\n",
    "Donde $r_{ui}$ es la interacción en horas de un usuario $u$ con un item $i$. Para este dataset se propuso un umbral de 5 horas para definir si un jugador tuvo preferencia por un juego. De esta manera la predicción $p_{ui}$ para el usuario $u$ sobre el item $i$ se calcula desarrollando el producto vectorial de la siguiente manera \n",
    "\n",
    "$$p_{ui} = x_{u}^{T}y_{i}$$\n",
    "\n",
    "Ahora definimos la confianza $c_{ui}$ que es una medida de la confianza en la observación $p_{ui}$. Esta surge debido a que la matriz item usuario tiene muchos mas espacios vacios y por ello debemos darle un peso mucho mas alto a las posiciones positivas (unos, que demuestran que el usuario tuvo una preferencia por el juego) para compensar. Esto se logrará escalando la matriz original por algun parámetro alpha, lo que le dará el peso deseado a las posiciones positivas y las negativas (0) permanecerán iguales. De tal manera definimos la confianza $c_{ui}$ para el usuario $u$ en el item $i$ como se ve a continuación\n",
    "\n",
    "$$c_{ui} = \\alpha p_{ui}$$\n",
    "\n",
    "la mejor manera de determinar este parámetro $\\alpha$ es por medio de validación cruzada. Finalmente el término $\\lambda$ es la tasa de regularización que evita que el modelo se sobreajuste y penaliza el crecimiento de los vectores factor usuario $x_{u}$ e item $y_{i}$\n",
    "\n",
    "La función de costo del método es la siguiente\n",
    "\n",
    "$${min}_{x,y} \\sum_{u,i} c_{ui}(p_{ui} - x_{u}^{T}y_{i})^{2} + \\lambda \\bigg(\\sum_{u} \\|x_{u}\\|^{2} + \\sum_{i} \\|y_{i}\\|^{2}\\bigg)$$\n",
    "\n",
    "La minimización de esta función se desarrolla con el método de gradiente conjugado desarrollado en el artículo [Applications of the Conjugate Gradient Method for Implicit Feedback Collaborative Filtering](http://citeseerx.ist.psu.edu/viewdoc/download?doi=10.1.1.379.6473&rep=rep1&type=pdf)."
   ]
  },
  {
   "cell_type": "markdown",
   "metadata": {},
   "source": [
    "#### Elección de la métrica de evaluación"
   ]
  },
  {
   "cell_type": "markdown",
   "metadata": {},
   "source": [
    "La precisión media promedio a $K$ items $(MAP@K)$ será la métrica utilizada para evaluar el desempeño del modelo. A diferencia de otras métricas que no distinguen la posición de las recomendaciones relevantes, esta métrica si permite darle mas peso a los errores que ocurren mas arriba en la lista de recomendaciones. Ademas es una métrica muy util para los datasets binarios, como es nuestro caso, debido a la función que introduce de relevancia.\n",
    "\n",
    "Para entender esta métrica debemos definir la precisión, que se presenta a continuación\n",
    "\n",
    "$$ P = \\frac{\\text{número de items relevantes en la lista}}{\\text{número de items en la lista}}$$\n",
    "\n",
    "Ademas la relevancia se define como la siguiente función por tramos\n",
    "\n",
    "$$relevancia = \\begin{cases} 1& \\ \\text{si el item es relevante} \\\\ 0& \\ \\text{si el item no es relevante} \\end{cases}$$\n",
    "\n",
    "Con estas dos se define para cada usuario la precisión media a $K$ items como la sumatoria de las precisiones de los elementos relevantes en $K$ sobre el número total de elementos relevantes en $K$\n",
    "\n",
    "$$ AveP@K = \\displaystyle \\frac{\\sum_{k=1}^{K} P(k) \\times relevancia(k)}{\\text{número de items relevantes}} $$\n",
    "\n",
    "Finalmente para obtener un valor para el conjunto completo de usuarios se define la presición media promedio a $K$ items como el promedio de las precisiones medias a $K$ items para cada usuario $u$\n",
    "\n",
    "$$ MAP@K = \\displaystyle \\frac{\\sum_{u=1}^{U} AveP(u)}{N} $$\n",
    "\n",
    "Para el cálculo de la métrica utilizaremos un valor de $K$ igual a 20, considerando este un número adecuado de recomendaciones sin hacerse demasiado extenso como para que el usuario pierda interes en la lista o la omita"
   ]
  },
  {
   "cell_type": "markdown",
   "metadata": {},
   "source": [
    "#### Optimización bayesiana para los hiperparámetros "
   ]
  },
  {
   "cell_type": "markdown",
   "metadata": {},
   "source": [
    "Los modelos se evaluaran utilizando la métrica elegida y desarrollando un procedimiento de validación cruzada (efectuando una iteración por cada usuario en el dataset de prueba). Los algoritmos que solo poseen un hiperparámetro pueden ser facilmente optimizados por una busqueda exhaustiva de valores, mientras que para aquellos que poseen varios hipeparámetros se desarrollara un procedimiento de [optimización bayesiana para los hiperparámetros](https://machinelearningmastery.com/what-is-bayesian-optimization/) utilizando procesos gausianos. La idea de este procedimiento es aproximar la función de costo como la superposición de funciones gausianas y apartir de este enfoque evaluar la métrica obtenida con cada iteración para buscar la configuración de hiperparámetros que minimice la función de costo. \n",
    "\n",
    "La gran ventaja que tiene este enfoque es el algoritmo aprende de los resultados anteriores y se ajusta hasta cumplir con las condiciones solicitadas de convergencia; a diferencia de la optimización por grilla o por randomizado que requiere un gran número de iteraciones, lo que se ve reflejado en tiempos de ejecución mucho mayores. La implementación de este método de optimización se presenta como una alternativa frente a la principales sugerencias de mejora de los anteriores proyectos en torno a profundizar mas sobre la optimización de hiperparámetros"
   ]
  },
  {
   "cell_type": "markdown",
   "metadata": {},
   "source": [
    "#### Transformación del dataset"
   ]
  },
  {
   "cell_type": "markdown",
   "metadata": {},
   "source": [
    "A partir de la información que tenemos debemos construir una matriz de utilidad (item, usuario) que cuenta con la totalidad de interacciones posibles entre items $i$ y usuarios $u$ y que tomará los valores de calificación de un usuario por un juego ($1$ o $0$) y los albergará en una matriz con dimensiones ($I$, $U$). Esta matriz está en formato CSR (compressed sparse row matrix), será utilizada en el entrenamiento de los modelos. \n",
    "\n",
    "Una segunda matriz de utilidad (usuario, item) se genera por medio de la transpuesta de la primera matriz. Esta matriz será usada posteriormente en la recomendación de los items."
   ]
  },
  {
   "cell_type": "code",
   "execution_count": 4,
   "metadata": {},
   "outputs": [],
   "source": [
    "data = data_reviews[['game_id','user_id','ratings']]"
   ]
  },
  {
   "cell_type": "code",
   "execution_count": 5,
   "metadata": {},
   "outputs": [],
   "source": [
    "matrix_item_user = sparse.csr_matrix((data['ratings'].astype(float), (data['game_id'], data['user_id'])))\n",
    "matrix_user_item = matrix_item_user.transpose()"
   ]
  },
  {
   "cell_type": "code",
   "execution_count": 6,
   "metadata": {},
   "outputs": [
    {
     "name": "stdout",
     "output_type": "stream",
     "text": [
      "La matriz item - usuario tiene dimensiones  (5442, 40748)\n"
     ]
    }
   ],
   "source": [
    "print('La matriz item - usuario tiene dimensiones ', matrix_item_user.shape)"
   ]
  },
  {
   "cell_type": "markdown",
   "metadata": {},
   "source": [
    "A partir del dataset hacemos una partición en el conjunto de entrenamiento (train) y el conjunto de pruebas (test), utilizando el 80% de la información para entrenar el modelo y el 20% restaste para la validación"
   ]
  },
  {
   "cell_type": "code",
   "execution_count": 7,
   "metadata": {},
   "outputs": [],
   "source": [
    "train, test = train_test_split(matrix_item_user, train_percentage=0.8)"
   ]
  },
  {
   "cell_type": "markdown",
   "metadata": {},
   "source": [
    "#### Modelo # 1 - Caso Benchmarck"
   ]
  },
  {
   "cell_type": "markdown",
   "metadata": {},
   "source": [
    "Desarrollaremos un modelo benchmark sencillo, que constará del Top de juegos mas populares. Para ello desarrollaremos una clase que nos permita utilizar el método para el cálculo de la métrica que contiene la libreria"
   ]
  },
  {
   "cell_type": "code",
   "execution_count": 8,
   "metadata": {},
   "outputs": [],
   "source": [
    "class Benchmark_popularidad:\n",
    "    \n",
    "    def __init__(self, recomendations):\n",
    "        self.recomendations = recomendations\n",
    "        \n",
    "    def recommend(self, userid, user_item, N):\n",
    "        recomendations = self.recomendations[:N]\n",
    "        return recomendations"
   ]
  },
  {
   "cell_type": "code",
   "execution_count": 9,
   "metadata": {},
   "outputs": [],
   "source": [
    "rank = data.game_id.value_counts().index\n",
    "score = np.linspace(1.9,-20,len(rank))\n",
    "recomendations = list(tuple(zip(rank, score)))"
   ]
  },
  {
   "cell_type": "code",
   "execution_count": 10,
   "metadata": {},
   "outputs": [],
   "source": [
    "modelo1 = Benchmark_popularidad(recomendations)"
   ]
  },
  {
   "cell_type": "code",
   "execution_count": 11,
   "metadata": {},
   "outputs": [
    {
     "data": {
      "application/vnd.jupyter.widget-view+json": {
       "model_id": "d7655aac3f3a4464be8a85455909f27c",
       "version_major": 2,
       "version_minor": 0
      },
      "text/plain": [
       "HBox(children=(HTML(value=''), FloatProgress(value=0.0, max=40748.0), HTML(value='')))"
      ]
     },
     "metadata": {},
     "output_type": "display_data"
    },
    {
     "name": "stdout",
     "output_type": "stream",
     "text": [
      "\n",
      "el modelo benchmark tiene un valor de MAP@k igual a : 0.0286\n"
     ]
    }
   ],
   "source": [
    "r_1 = ranking_metrics_at_k(modelo1, train.T, test.T, K=20, show_progress=True)\n",
    "print('el modelo benchmark tiene un valor de MAP@k igual a : %0.4f' % (r_1['map']))"
   ]
  },
  {
   "cell_type": "markdown",
   "metadata": {},
   "source": [
    "#### Modelo # 2 KNN con medida de similitud coseno "
   ]
  },
  {
   "cell_type": "markdown",
   "metadata": {},
   "source": [
    "El modelo KNN con similitud coseno posee un solo hiperparámetro de tipo entero (K), por ellos desarrollaremos la optimización del modelo por medio de una iteración definida a lo largo de dicho hiperparámetro"
   ]
  },
  {
   "cell_type": "code",
   "execution_count": 13,
   "metadata": {},
   "outputs": [
    {
     "name": "stdout",
     "output_type": "stream",
     "text": [
      "Wall time: 1min 54s\n"
     ]
    }
   ],
   "source": [
    "%%time\n",
    "\n",
    "Ks = np.arange(2,31)\n",
    "metrica_2 = []\n",
    "\n",
    "for K in Ks:\n",
    "    modelo2 = CosineRecommender(K=K)\n",
    "    modelo2.fit(train, show_progress=False)\n",
    "    r = ranking_metrics_at_k(modelo2, train.T, test.T, K=20, show_progress=False)\n",
    "    metrica_2.append(r['map'])"
   ]
  },
  {
   "cell_type": "code",
   "execution_count": 14,
   "metadata": {},
   "outputs": [
    {
     "data": {
      "image/png": "[encoded data removed]",
      "text/plain": [
       "<Figure size 1008x360 with 1 Axes>"
      ]
     },
     "metadata": {
      "needs_background": "light"
     },
     "output_type": "display_data"
    }
   ],
   "source": [
    "plt.figure(figsize=(14,5))\n",
    "plt.title('MAP@k con respecto al K para el modelo KNN con similitud coseno')\n",
    "plt.plot(Ks, metrica_2, 's-c')\n",
    "plt.xlabel('K')\n",
    "plt.ylabel('MAP@k')\n",
    "plt.xlim(2,30)\n",
    "plt.grid()"
   ]
  },
  {
   "cell_type": "markdown",
   "metadata": {},
   "source": [
    "Vemos que valor mas adecuado para K es 6, por lo tanto instanciamos el modelo nuevamente"
   ]
  },
  {
   "cell_type": "code",
   "execution_count": 15,
   "metadata": {},
   "outputs": [
    {
     "data": {
      "application/vnd.jupyter.widget-view+json": {
       "model_id": "4552d7ad15614e62afe391240e0ba7f1",
       "version_major": 2,
       "version_minor": 0
      },
      "text/plain": [
       "HBox(children=(HTML(value=''), FloatProgress(value=0.0, max=5442.0), HTML(value='')))"
      ]
     },
     "metadata": {},
     "output_type": "display_data"
    },
    {
     "name": "stdout",
     "output_type": "stream",
     "text": [
      "\n"
     ]
    }
   ],
   "source": [
    "modelo2 = CosineRecommender(K=6)\n",
    "modelo2.fit(train, show_progress=True)"
   ]
  },
  {
   "cell_type": "code",
   "execution_count": 16,
   "metadata": {},
   "outputs": [
    {
     "data": {
      "application/vnd.jupyter.widget-view+json": {
       "model_id": "3f7defd9f8cc47aabc69c64c011493ff",
       "version_major": 2,
       "version_minor": 0
      },
      "text/plain": [
       "HBox(children=(HTML(value=''), FloatProgress(value=0.0, max=40748.0), HTML(value='')))"
      ]
     },
     "metadata": {},
     "output_type": "display_data"
    },
    {
     "name": "stdout",
     "output_type": "stream",
     "text": [
      "\n",
      "el modelo KNN con similitud coseno tiene un valor de MAP@k igual a : 0.0504\n"
     ]
    }
   ],
   "source": [
    "r_2 = ranking_metrics_at_k(modelo2, train.T, test.T, K=20, show_progress=True)\n",
    "print('el modelo KNN con similitud coseno tiene un valor de MAP@k igual a : %0.4f' % (r_2['map']))"
   ]
  },
  {
   "cell_type": "markdown",
   "metadata": {},
   "source": [
    "#### Modelo # 3 KNN con medida de similitud BM25"
   ]
  },
  {
   "cell_type": "markdown",
   "metadata": {},
   "source": [
    "El modelo de KNN con medida de similitud BM25 tiene 3 hiperparámetros (K es entero, K1 y B son reales), se desarrollará optimización bayesiana para obtener los mejores valores de estos. El modelo de optimización requiere el rango y la naturaleza del hiperparámetro. Se construye una función de evaluación que tomará los valores para estos hiperparámetros y obtiene un valor para la métrica. Ademas se generan condiciones de parada para detener la optimización, si se obtiene una diferencia en las métricas menor a 0.0015 o si se supera un tiempo de ejecución de 20 minutos.\n",
    "\n",
    "Debemos tener en cuenta que el modelo de optimización busca la minimización de una función, pero debido a que la métrica utilizada busca ser maximizada y está entre 1 y 0, utilizamos (1 - métrica) para obtener un métrica análoga que sea minimizada"
   ]
  },
  {
   "cell_type": "code",
   "execution_count": 17,
   "metadata": {},
   "outputs": [],
   "source": [
    "search_space3 = [Integer(1, 200, name='Ks'), \n",
    "                 Real(0, 10, name='K1s'), \n",
    "                 Real(0, 10, name='Bs')]"
   ]
  },
  {
   "cell_type": "code",
   "execution_count": 18,
   "metadata": {},
   "outputs": [],
   "source": [
    "@use_named_args(search_space3)\n",
    "def evaluate_model(Ks, K1s, Bs):\n",
    "    modelo3 = BM25Recommender(K=Ks, K1=K1s, B=Bs)\n",
    "    modelo3.fit(train, show_progress=False)\n",
    "    r = ranking_metrics_at_k(modelo3, train.T, test.T, K=20, show_progress=False)\n",
    "    return 1 - r['map']"
   ]
  },
  {
   "cell_type": "code",
   "execution_count": 19,
   "metadata": {},
   "outputs": [],
   "source": [
    "callback1 = DeltaYStopper(delta=1.5e-3, n_best=5)\n",
    "callback2 = DeadlineStopper(total_time=60*20)"
   ]
  },
  {
   "cell_type": "code",
   "execution_count": 20,
   "metadata": {},
   "outputs": [
    {
     "name": "stdout",
     "output_type": "stream",
     "text": [
      "Wall time: 8min 55s\n"
     ]
    }
   ],
   "source": [
    "%%time\n",
    "\n",
    "optimization3 = gp_minimize(evaluate_model, search_space3, n_calls=200, callback=[callback1,callback2], random_state=42)"
   ]
  },
  {
   "cell_type": "code",
   "execution_count": 21,
   "metadata": {},
   "outputs": [
    {
     "name": "stdout",
     "output_type": "stream",
     "text": [
      "el modelo tiene un valor de MAP@k igual a : 0.05738\n"
     ]
    }
   ],
   "source": [
    "print('el modelo tiene un valor de MAP@k igual a : %0.5f' % (1- optimization3.fun))"
   ]
  },
  {
   "cell_type": "code",
   "execution_count": 22,
   "metadata": {},
   "outputs": [
    {
     "name": "stdout",
     "output_type": "stream",
     "text": [
      "Los hiperparámetros para el modelo optimizado son los siguiente\n",
      "K :  200\n",
      "K1 :  0.1156416989521357\n",
      "B :  1.3906665653307289\n"
     ]
    }
   ],
   "source": [
    "print('Los hiperparámetros para el modelo optimizado son los siguiente')\n",
    "print('K : ',optimization3.x[0])\n",
    "print('K1 : ',optimization3.x[1])\n",
    "print('B : ',optimization3.x[2])"
   ]
  },
  {
   "cell_type": "markdown",
   "metadata": {},
   "source": [
    "A continuación se presenta el gráfico de convergencia para el procedimiento de optimización, en donde se indica para cada iteración el valor mínimo que ha tomado la métrica (1 - métrica), hasta converger. "
   ]
  },
  {
   "cell_type": "code",
   "execution_count": 23,
   "metadata": {},
   "outputs": [
    {
     "data": {
      "image/png": "[encoded data removed]",
      "text/plain": [
       "<Figure size 1008x360 with 1 Axes>"
      ]
     },
     "metadata": {
      "needs_background": "light"
     },
     "output_type": "display_data"
    }
   ],
   "source": [
    "plt.figure(figsize=(14,5))\n",
    "plot_convergence(optimization3)\n",
    "plt.title('Gráfico de convergencia para 1 - MAP@k')\n",
    "plt.xlabel('número de iteraciones')\n",
    "plt.ylabel('1 - MAP@k')\n",
    "plt.xlim(1,len(optimization3.func_vals))\n",
    "plt.show()"
   ]
  },
  {
   "cell_type": "markdown",
   "metadata": {},
   "source": [
    "Instanciamos nuevamente el modelo con los hiperparámetros obtenidos"
   ]
  },
  {
   "cell_type": "code",
   "execution_count": 24,
   "metadata": {},
   "outputs": [
    {
     "data": {
      "application/vnd.jupyter.widget-view+json": {
       "model_id": "c4da3c7c392e42fe9f8b0ba52ed8135a",
       "version_major": 2,
       "version_minor": 0
      },
      "text/plain": [
       "HBox(children=(HTML(value=''), FloatProgress(value=0.0, max=5442.0), HTML(value='')))"
      ]
     },
     "metadata": {},
     "output_type": "display_data"
    },
    {
     "name": "stdout",
     "output_type": "stream",
     "text": [
      "\n"
     ]
    }
   ],
   "source": [
    "modelo3 = BM25Recommender(K=200, K1=0.1156, B=1.3907)\n",
    "modelo3.fit(train, show_progress=True)"
   ]
  },
  {
   "cell_type": "code",
   "execution_count": 25,
   "metadata": {},
   "outputs": [
    {
     "data": {
      "application/vnd.jupyter.widget-view+json": {
       "model_id": "d7f560ea6a1a49eabf307f396e6c94da",
       "version_major": 2,
       "version_minor": 0
      },
      "text/plain": [
       "HBox(children=(HTML(value=''), FloatProgress(value=0.0, max=40748.0), HTML(value='')))"
      ]
     },
     "metadata": {},
     "output_type": "display_data"
    },
    {
     "name": "stdout",
     "output_type": "stream",
     "text": [
      "\n",
      "el modelo KNN con similitud BM25 tiene un valor de MAP@k igual a : 0.0574\n"
     ]
    }
   ],
   "source": [
    "r_3 = ranking_metrics_at_k(modelo3, train.T, test.T, K=20, show_progress=True)\n",
    "print('el modelo KNN con similitud BM25 tiene un valor de MAP@k igual a : %0.4f' % (r_3['map']))"
   ]
  },
  {
   "cell_type": "markdown",
   "metadata": {},
   "source": [
    "#### Modelo # 4 ALS "
   ]
  },
  {
   "cell_type": "markdown",
   "metadata": {},
   "source": [
    "El modelo de mínimos cuadrados alternantes cuenta con 4 hiperparámetros (alpha, factor latente e iteraciones son enteros, regularización es real). De nuevo se desarrollará optimización bayesiana. \n",
    "\n",
    "Las condiciones de parada en este caso son por diferencia entre los resultados de las métricas (menor a 0.0015) o si supera un tiempo de ejecución de 5 horas (se considera un tiempo mucho mayor ya que cada iteración puede tomar mucho mas tiempo)."
   ]
  },
  {
   "cell_type": "code",
   "execution_count": 26,
   "metadata": {},
   "outputs": [],
   "source": [
    "search_space4 = [Integer(5, 100, name='alfa'),\n",
    "                 Integer(10, 400, name='fact'),\n",
    "                 Real(10, 300, name='reg'),\n",
    "                 Integer(20, 150, name='it')]"
   ]
  },
  {
   "cell_type": "code",
   "execution_count": 27,
   "metadata": {},
   "outputs": [],
   "source": [
    "@use_named_args(search_space4)\n",
    "def evaluate_model(alfa, fact, reg, it):\n",
    "    trainALS, testALS = train_test_split(matrix_item_user * alfa, train_percentage=0.8)\n",
    "    modelo4 = AlternatingLeastSquares(factors=fact, regularization=reg, iterations=it, random_state=42)\n",
    "    modelo4.fit(trainALS, show_progress=False)\n",
    "    r = ranking_metrics_at_k(modelo4, trainALS.T, testALS.T, K=20, show_progress=False)\n",
    "    return 1 - r['map']"
   ]
  },
  {
   "cell_type": "code",
   "execution_count": 28,
   "metadata": {},
   "outputs": [],
   "source": [
    "callback1 = DeltaYStopper(delta=1.5e-3, n_best=5)\n",
    "callback2 = DeadlineStopper(total_time=60*60*5)"
   ]
  },
  {
   "cell_type": "code",
   "execution_count": 29,
   "metadata": {},
   "outputs": [
    {
     "name": "stdout",
     "output_type": "stream",
     "text": [
      "Wall time: 2h 14min 51s\n"
     ]
    }
   ],
   "source": [
    "%%time\n",
    "\n",
    "optimization4 = gp_minimize(evaluate_model, search_space4, n_calls=200, callback=[callback1,callback2], random_state=42)"
   ]
  },
  {
   "cell_type": "code",
   "execution_count": 30,
   "metadata": {},
   "outputs": [
    {
     "name": "stdout",
     "output_type": "stream",
     "text": [
      "el modelo tiene un valor de MAP@k igual a : 0.06582\n"
     ]
    }
   ],
   "source": [
    "print('el modelo tiene un valor de MAP@k igual a : %0.5f' % (1- optimization4.fun))"
   ]
  },
  {
   "cell_type": "code",
   "execution_count": 31,
   "metadata": {},
   "outputs": [
    {
     "name": "stdout",
     "output_type": "stream",
     "text": [
      "Los hiperparámetros para el modelo optimizado son los siguiente\n",
      "alpha :  31\n",
      "factor latente :  347\n",
      "regularización :  251.37532269310853\n",
      "iteraciones :  150\n"
     ]
    }
   ],
   "source": [
    "print('Los hiperparámetros para el modelo optimizado son los siguiente')\n",
    "print('alpha : ',optimization4.x[0])\n",
    "print('factor latente : ',optimization4.x[1])\n",
    "print('regularización : ',optimization4.x[2])\n",
    "print('iteraciones : ',optimization4.x[3])"
   ]
  },
  {
   "cell_type": "markdown",
   "metadata": {},
   "source": [
    "Los intervalos de los hiperparámetros se eligen para no hacer excesivo el tiempo de ejecución de cada iteración y permitirle al procedimiento de optimización contar con un buen número de iteraciones para ir ajustando los hiperparámetros. El elegir rangos mas extensos aumentaria considerablemente el tiempo de ejecución de cada iteración  lo que conlleva muy pocas iteraciones o tiempos de ejecución mucho mas extensos para la optimización. Es por ello que los resultados de los hiperparámetros se ubican en el extremo superior del rango para varios de ellos.\n",
    "\n",
    "A continuación presentamos el gráfico de convergencia para este modelo. de igual manera que para el modelo anterior presenta el valor mínimo obtenido de 1 - métrica"
   ]
  },
  {
   "cell_type": "code",
   "execution_count": 32,
   "metadata": {},
   "outputs": [
    {
     "data": {
      "image/png": "[encoded data removed]",
      "text/plain": [
       "<Figure size 1008x360 with 1 Axes>"
      ]
     },
     "metadata": {
      "needs_background": "light"
     },
     "output_type": "display_data"
    }
   ],
   "source": [
    "plt.figure(figsize=(14,5))\n",
    "plot_convergence(optimization4)\n",
    "plt.title('Gráfico de convergencia para 1 - MAP@k')\n",
    "plt.xlabel('número de iteraciones')\n",
    "plt.ylabel('1 - MAP@k')\n",
    "plt.xlim(1,len(optimization4.func_vals))\n",
    "plt.show()"
   ]
  },
  {
   "cell_type": "markdown",
   "metadata": {},
   "source": [
    "Ahora instanciamos nuevamente el modelo con los mejores hiperparámetros obtenidos. Observemos como los tiempos de entrenamiento y evaluación son mucho mayores que para los modelos antes desarrollados."
   ]
  },
  {
   "cell_type": "code",
   "execution_count": 39,
   "metadata": {},
   "outputs": [],
   "source": [
    "alpha = 31\n",
    "trainALS, testALS = train_test_split(matrix_item_user * alpha, train_percentage=0.8)"
   ]
  },
  {
   "cell_type": "code",
   "execution_count": 40,
   "metadata": {},
   "outputs": [
    {
     "data": {
      "application/vnd.jupyter.widget-view+json": {
       "model_id": "75e382bcf40f42a2bed1d871de4b118d",
       "version_major": 2,
       "version_minor": 0
      },
      "text/plain": [
       "HBox(children=(HTML(value=''), FloatProgress(value=0.0, max=150.0), HTML(value='')))"
      ]
     },
     "metadata": {},
     "output_type": "display_data"
    },
    {
     "name": "stdout",
     "output_type": "stream",
     "text": [
      "\n"
     ]
    }
   ],
   "source": [
    "modelo4 = AlternatingLeastSquares(factors=347, regularization=251.3753, iterations=150, random_state=42)\n",
    "modelo4.fit(trainALS, show_progress=True)"
   ]
  },
  {
   "cell_type": "code",
   "execution_count": 41,
   "metadata": {},
   "outputs": [
    {
     "data": {
      "application/vnd.jupyter.widget-view+json": {
       "model_id": "40b1abe024254051b0a37d8e360818a8",
       "version_major": 2,
       "version_minor": 0
      },
      "text/plain": [
       "HBox(children=(HTML(value=''), FloatProgress(value=0.0, max=40748.0), HTML(value='')))"
      ]
     },
     "metadata": {},
     "output_type": "display_data"
    },
    {
     "name": "stdout",
     "output_type": "stream",
     "text": [
      "\n",
      "el modelo ALS tiene un valor de MAP@k igual a : 0.0655\n"
     ]
    }
   ],
   "source": [
    "r_4 = ranking_metrics_at_k(modelo4, trainALS.T, testALS.T, K=20, show_progress=True)\n",
    "print('el modelo ALS tiene un valor de MAP@k igual a : %0.4f' % (r_4['map']))"
   ]
  },
  {
   "cell_type": "markdown",
   "metadata": {},
   "source": [
    "#### Modelo # 5 basado en contenidos"
   ]
  },
  {
   "cell_type": "markdown",
   "metadata": {},
   "source": [
    "Para el desarrollo de este modelo y a pesar de una exhaustiva revisión bibliográfica no se encontró una libreria que incopore un método que desarrolle propiamente el modelo, como si sucede con la libreria implicit para los modelos anteriores. Es por ello que hemos contruido una clase llamada BasedContent que incorpora los métodos fit() para entrenar el modelo y recomend() para generar las recomendaciones para un usuario específico, de manera similar a como funcionan los métodos contenidos en las librerias conocidas de sistemas de recomendación como implicit y surprise y lightFM. \n",
    "\n",
    "El algoritmo es instanciado a partir de la clase construida y cuenta con un hiperparámetro, que es el número de items vecinos a considerar (K). Este algoritmo funciona aplicando la similitud coseno a la matriz de caracteristicas de los items para de esa manera contruir una matriz de similitudes cuadrada que tiene tanto en filas como en columnas a los items y cuya diagonal será de 1 ya que cada item consigo mismo tiene similitud máxima. A partir de esta matriz se construye otra matriz donde se albergan los k vecinos mas similares para cada uno de los items. estos pasos se desarrollan en el método fit()\n",
    "\n",
    "Con las matrices previamente cálculadas en el método anterior se ejecuta el método recommend() que no requiere propiamente la identificación del usuario, pero si la lista de juegos que dicho usuario posee, esto es porque este tipo de sistema de recomendación no interactua en ningun momento con la matriz de utilidad item - usuario si no que presenta recomendaciones basadas en similitud de items. Tambien requiere el número N de items recomendados y se puede elegir si filtrar o no los juegos que el usuario posee para la recomendación y si se separa la lista de juegos para desarrollar la validación cruzada, que es utilizada para el cálculo de la métrica. Este método contruye una matriz de similitud que contiene los K items vecinos a los jugados y un vector de usuario que contiene todos los items de la matriz mencionada y toma los valores de 1 o 0 segun posee o no el juego. Con estos se desarrolla el producto vectorial de ambos para contruir un score por item que es la sumatoria de las similitudes de cada item con respecto a los juegos previamente jugados y se divide por la sumatoria de las similitudes de cada item para normalizarse. Finalmente se retiran los items ya jugados por el usuario y se presentan las recomendaciones."
   ]
  },
  {
   "cell_type": "code",
   "execution_count": 33,
   "metadata": {},
   "outputs": [],
   "source": [
    "class ContentBased:\n",
    "    \n",
    "    def __init__(self, K):\n",
    "        self.n_vecinos = K\n",
    "    \n",
    "    def fit(self, data_games_content):\n",
    "        data_sparse = sparse.csr_matrix(data_games_content)\n",
    "        similarities = cosine_similarity(data_sparse)\n",
    "        similarity_matrix = pd.DataFrame(data=similarities, index= data_games_content.index, columns= data_games_content.index)\n",
    "        \n",
    "        for i in range (len(similarity_matrix)):\n",
    "            similarity_matrix.iloc[i,i] = 1\n",
    "        \n",
    "        data_vecinos = pd.DataFrame(index=similarity_matrix.columns, columns=range(1,self.n_vecinos+1))\n",
    "        for i in range(len(similarity_matrix.columns)):\n",
    "            data_vecinos.iloc[i] = similarity_matrix.iloc[i].nlargest(self.n_vecinos).index\n",
    "        \n",
    "        self.similarity_matrix = similarity_matrix\n",
    "        self.data_vecinos = data_vecinos\n",
    "        \n",
    "    def recommend(self, list_games, N=10, filter_games=True, cross_val=False):\n",
    "        \n",
    "        limite = int(len(list_games)*0.5)\n",
    "        if cross_val == True:\n",
    "            self.list_games_test = list_games[limite:]\n",
    "            list_games = list_games[:limite]\n",
    "                 \n",
    "        items_mas_similares = self.data_vecinos.loc[list_games]\n",
    "        similar_list = items_mas_similares.values.tolist()\n",
    "        similar_list = [item for sublist in similar_list for item in sublist]\n",
    "        similar_list = np.unique(similar_list).tolist()\n",
    "\n",
    "        data_vecindad = self.similarity_matrix[similar_list].loc[similar_list]\n",
    "        \n",
    "        vector_usuario = []\n",
    "\n",
    "        for i in data_vecindad.index:\n",
    "            if i in list_games:\n",
    "                vector_usuario.append(1)\n",
    "            else:\n",
    "                vector_usuario.append(0)\n",
    "        \n",
    "        score = np.dot(data_vecindad,vector_usuario)/data_vecindad.sum(axis=1)\n",
    "        if filter_games == True:\n",
    "            score.drop(list_games, inplace=True)\n",
    "            \n",
    "        recomendacion = score.nlargest(N)\n",
    "        \n",
    "        return recomendacion"
   ]
  },
  {
   "cell_type": "markdown",
   "metadata": {},
   "source": [
    "Para el desarrollo de la métrica de evaluación, precisión media promedio a K items (MAP@k) se crea una función mapk que requiere el modelo previamente instanciado, la matriz de caracteristicas de los items, el parámetro K de items evaluados y una lista conformada por las listas de juegos que posee cada usuario segun su identificación de usuario, que va del 0 al 40747.\n",
    "\n",
    "Para realizar la validación cruzada se toma la lista de juegos de cada jugador y se separa la mitad de los items que esta contiene para construir las recomendaciones. Luego se toma la otra mitad de los items de la lista de juegos y se evalua por medio de la métrica su presencia y posición dentro de las recomendaciones."
   ]
  },
  {
   "cell_type": "code",
   "execution_count": 34,
   "metadata": {},
   "outputs": [],
   "source": [
    "def mapk(modelo, data_games_content, lista_juegos_usuarios, K=10):\n",
    "    \n",
    "    modelo.fit(data_games_content)\n",
    "    \n",
    "    aveprecision_users = []\n",
    "    for lista_juegos in lista_juegos_usuarios:\n",
    "        \n",
    "        recomendations = modelo.recommend(list_games=lista_juegos, N=K, filter_games=False, cross_val=True).index\n",
    "        list_games_test = modelo.list_games_test\n",
    "        \n",
    "        contador_preferencias = 0\n",
    "        precisiones = []\n",
    "        for index, game in enumerate(recomendations):\n",
    "            if game in list_games_test:\n",
    "                contador_preferencias += 1\n",
    "                precision = contador_preferencias/(index+1)\n",
    "                precisiones.append(precision)\n",
    "                \n",
    "        if len(precisiones) != 0:\n",
    "            aveprecision = np.mean(precisiones)\n",
    "        else:\n",
    "            aveprecision = 0\n",
    "            \n",
    "        aveprecision_users.append(aveprecision)\n",
    "        \n",
    "    mapk = np.mean(aveprecision_users)\n",
    "    \n",
    "    return mapk"
   ]
  },
  {
   "cell_type": "markdown",
   "metadata": {},
   "source": [
    "finalmente para construir la lista arriba mencionada conformada por las listas de juegos que posee cada jugador definimos una función. Así cuando se requiere la lista de juegos de un jugador especifico se llama esta lista con el indice correspondiente a la identificación del usuario."
   ]
  },
  {
   "cell_type": "code",
   "execution_count": 35,
   "metadata": {},
   "outputs": [],
   "source": [
    "def lista_juegos_usuarios():\n",
    "    \n",
    "    lista_juegos = []\n",
    "    for user in np.unique(data_reviews.user_id):\n",
    "        lista_usuario = data_reviews.game_id[data_reviews.user_id == user].values.tolist()\n",
    "        lista_juegos.append(lista_usuario)\n",
    "        \n",
    "    return lista_juegos"
   ]
  },
  {
   "cell_type": "markdown",
   "metadata": {},
   "source": [
    "Con esto definido vamos a desarrollar la optimización del hiperparámetro K del algoritmo, esto lo haremos por medio de una iteración definida a lo largo de dicho hiperparámetro."
   ]
  },
  {
   "cell_type": "code",
   "execution_count": 36,
   "metadata": {},
   "outputs": [],
   "source": [
    "lista_juegos_usuarios = lista_juegos_usuarios()"
   ]
  },
  {
   "cell_type": "code",
   "execution_count": 37,
   "metadata": {},
   "outputs": [
    {
     "name": "stdout",
     "output_type": "stream",
     "text": [
      "Wall time: 3h 17min 43s\n"
     ]
    }
   ],
   "source": [
    "%%time\n",
    "\n",
    "Ks = [10,20,30,40,50,60,70]\n",
    "metrica_5 = []\n",
    "\n",
    "for K in Ks:\n",
    "    modelo5 = ContentBased(K=K)\n",
    "    r = mapk(modelo5, data_games_content, lista_juegos_usuarios, K=20)\n",
    "    metrica_5.append(r)"
   ]
  },
  {
   "cell_type": "code",
   "execution_count": 38,
   "metadata": {},
   "outputs": [
    {
     "data": {
      "image/png": "[encoded data removed]",
      "text/plain": [
       "<Figure size 1008x360 with 1 Axes>"
      ]
     },
     "metadata": {
      "needs_background": "light"
     },
     "output_type": "display_data"
    }
   ],
   "source": [
    "plt.figure(figsize=(14,5))\n",
    "plt.title('MAP@k con respecto al K para el modelo basado en contenidos')\n",
    "plt.plot(Ks, metrica_5, 's-m')\n",
    "plt.xlabel('K')\n",
    "plt.ylabel('MAP@k')\n",
    "plt.xlim(10,70)\n",
    "plt.grid()"
   ]
  },
  {
   "cell_type": "markdown",
   "metadata": {},
   "source": [
    "Podemos ver que para valores mayores a 50, el hiperparámetro K no tiene un aumento sustancial en el desempeño del modelo, por lo tanto instanciamos nuevamente el modelo ajustando este hiperparámetro a 50."
   ]
  },
  {
   "cell_type": "code",
   "execution_count": 42,
   "metadata": {},
   "outputs": [],
   "source": [
    "modelo5 = ContentBased(K=50)\n",
    "modelo5.fit(data_games_content)"
   ]
  },
  {
   "cell_type": "code",
   "execution_count": 43,
   "metadata": {},
   "outputs": [
    {
     "name": "stdout",
     "output_type": "stream",
     "text": [
      "el modelo basado en contenidos tiene un valor de MAP@k igual a : 0.0555\n",
      "Wall time: 34min 17s\n"
     ]
    }
   ],
   "source": [
    "%%time\n",
    "\n",
    "r_5 = mapk(modelo5, data_games_content, lista_juegos_usuarios, K=20)\n",
    "print('el modelo basado en contenidos tiene un valor de MAP@k igual a : %0.4f' % (r_5))"
   ]
  },
  {
   "cell_type": "markdown",
   "metadata": {},
   "source": [
    "#### Comparativo de los resultados obtenidos"
   ]
  },
  {
   "cell_type": "markdown",
   "metadata": {},
   "source": [
    "A continuación presentamos una tabla con los resultados de la métrica de evaluación para cada uno de los modelos planteados"
   ]
  },
  {
   "cell_type": "code",
   "execution_count": 44,
   "metadata": {},
   "outputs": [],
   "source": [
    "Comparativo = {'Caso benchmark' : r_1['map'],\n",
    "               'KNN con similitud coseno' : r_2['map'],\n",
    "               'KNN con similitud BM25' : r_3['map'],\n",
    "               'ALS' : r_4['map'],\n",
    "               'Basado en contenidos' : r_5}\n",
    "\n",
    "Comparativo = pd.DataFrame.from_dict(Comparativo, orient='index',columns=['map'])"
   ]
  },
  {
   "cell_type": "code",
   "execution_count": 45,
   "metadata": {},
   "outputs": [
    {
     "name": "stdout",
     "output_type": "stream",
     "text": [
      "Comparativo de los modelos segun su desempeño en la métrica MAP@k : \n",
      "\n",
      "ALS                         0.065455\n",
      "KNN con similitud BM25      0.057390\n",
      "Basado en contenidos        0.055457\n",
      "KNN con similitud coseno    0.050416\n",
      "Caso benchmark              0.028603\n",
      "Name: map, dtype: float64\n"
     ]
    }
   ],
   "source": [
    "print('Comparativo de los modelos segun su desempeño en la métrica MAP@k : \\n')\n",
    "print(Comparativo.map.sort_values(ascending=False))"
   ]
  },
  {
   "cell_type": "markdown",
   "metadata": {},
   "source": [
    "Vemos que el algoritmo de filtro colaborativo basado en modelo , de mínimos cuadrados alternantes, es el que presenta mejores resultados."
   ]
  },
  {
   "cell_type": "markdown",
   "metadata": {},
   "source": [
    "#### Desarrollo de las predicciones con el modelo ALS"
   ]
  },
  {
   "cell_type": "markdown",
   "metadata": {},
   "source": [
    "Elegiremos un usuario al azar y realizaremos algunas predicciones, tales como las recomendaciones que se le sugieren, la explicación de la recomendación principal, los items mas similares a la recomendación principal y los usuarios mas similares al usuario elegido"
   ]
  },
  {
   "cell_type": "code",
   "execution_count": 46,
   "metadata": {},
   "outputs": [],
   "source": [
    "user = 33706\n",
    "usuario = np.unique(data_reviews.username[data_reviews.user_id == user])[0]\n",
    "juegos_usuario = list(map(dict(zip(data_games.game_id,data_games.title)).get,lista_juegos_usuarios[user]))"
   ]
  },
  {
   "cell_type": "markdown",
   "metadata": {},
   "source": [
    "Solicitamos las 20 recomendaciones principales para el usuario. Debemos proporcionar al método la lista de juegos que el usuario ya posee para que los elimine de las recomendaciones"
   ]
  },
  {
   "cell_type": "code",
   "execution_count": 47,
   "metadata": {},
   "outputs": [],
   "source": [
    "recommended = modelo4.recommend(userid=user, user_items=matrix_user_item, N=20, filter_items=lista_juegos_usuarios[user])\n",
    "\n",
    "games_recom = [i[0] for i in recommended]\n",
    "scores_recom = [i[1] for i in recommended]\n",
    "\n",
    "recom = pd.Series(scores_recom, index = games_recom)\n",
    "recom.index = recom.index.map(dict(zip(data_games.game_id,data_games.title)))"
   ]
  },
  {
   "cell_type": "code",
   "execution_count": 48,
   "metadata": {},
   "outputs": [
    {
     "name": "stdout",
     "output_type": "stream",
     "text": [
      "Usuario :  andyfinn2012 \n",
      "\n",
      "Juegos del Usuario :\n",
      "\n",
      "['Batman™: Arkham Origins Blackgate - Deluxe Edition', 'DC Universe™ Online', 'The Ship: Murder Party', 'Kingdom Rush', 'Reus', 'Rocketbirds: Hardboiled Chicken', 'LEGO The Lord of the Rings', 'STAR WARS™ Knights of the Old Republic™ II - The Sith Lords™', 'STAR WARS™ Empire at War - Gold Pack', \"Zombie Tycoon 2: Brainhov's Revenge\", 'PAYDAY™ The Heist', 'STAR WARS™ - Knights of the Old Republic™', 'HELLDIVERS™', 'Risk of Rain', 'LEGO® Marvel™ Super Heroes', 'Battlefield: Bad Company™ 2', 'STAR WARS™ Republic Commando™'] \n",
      "\n",
      "Recomendaciones por similitud:\n",
      "\n",
      "Batman™: Arkham Origins                                    0.579219\n",
      "Star Wars: Battlefront 2 (Classic, 2005)                   0.470422\n",
      "Batman™: Arkham Knight                                     0.357619\n",
      "LEGO® Batman™3: Beyond Gotham                              0.352306\n",
      "STAR WARS™ Jedi Knight - Jedi Academy™                     0.334010\n",
      "LEGO® Star Wars™ - The Complete Saga                       0.328762\n",
      "State of Decay                                             0.326750\n",
      "Gunpoint                                                   0.311487\n",
      "Half-Life 2                                                0.308890\n",
      "LEGO® The Hobbit™                                          0.306653\n",
      "FTL: Faster Than Light                                     0.301014\n",
      "Batman: Arkham Asylum Game of the Year Edition             0.294051\n",
      "Sins of a Solar Empire®: Rebellion                         0.281068\n",
      "Dungeon of the Endless™                                    0.269968\n",
      "Awesomenauts - the 2D moba                                 0.268503\n",
      "Left 4 Dead                                                0.268460\n",
      "Magicka                                                    0.264500\n",
      "STAR WARS™ - The Force Unleashed™ Ultimate Sith Edition    0.262892\n",
      "Metro 2033 Redux                                           0.262279\n",
      "ORION: Prelude                                             0.262250\n",
      "dtype: float64\n"
     ]
    }
   ],
   "source": [
    "print('Usuario : ', usuario,'\\n')\n",
    "print('Juegos del Usuario :\\n')\n",
    "print(juegos_usuario,'\\n')\n",
    "print('Recomendaciones por similitud:\\n')\n",
    "print(recom)"
   ]
  },
  {
   "cell_type": "markdown",
   "metadata": {},
   "source": [
    "Vemos que los juegos que posee el usuario en su plataforma son principalmente del género superheroes y ciencia ficción, acorde a las recomendaciones que le genera el modelo que en los primero lugares ubica varios juegos del Batman y STAR WARS\n",
    "\n",
    "Ahora veamos la explicación del principal juego recomendado"
   ]
  },
  {
   "cell_type": "code",
   "execution_count": 49,
   "metadata": {},
   "outputs": [],
   "source": [
    "explicacion = modelo4.explain(userid=user, user_items=matrix_user_item, itemid=games_recom[0], N=10)\n",
    "\n",
    "games_explain = [i[0] for i in explicacion[1]]\n",
    "scores_explain = [i[1] for i in explicacion[1]]\n",
    "\n",
    "explain = pd.Series(scores_explain, index = games_explain)\n",
    "explain.index = explain.index.map(dict(zip(data_games.game_id,data_games.title)))"
   ]
  },
  {
   "cell_type": "code",
   "execution_count": 50,
   "metadata": {},
   "outputs": [
    {
     "name": "stdout",
     "output_type": "stream",
     "text": [
      "Recomendación Top :  Batman™: Arkham Origins \n",
      "\n",
      "Explicacion de la recomendación Top: \n",
      "\n",
      "Batman™: Arkham Origins Blackgate - Deluxe Edition              0.009473\n",
      "DC Universe™ Online                                             0.006915\n",
      "LEGO® Marvel™ Super Heroes                                      0.006281\n",
      "STAR WARS™ Empire at War - Gold Pack                            0.004891\n",
      "LEGO The Lord of the Rings                                      0.004114\n",
      "PAYDAY™ The Heist                                               0.003240\n",
      "Battlefield: Bad Company™ 2                                     0.002803\n",
      "STAR WARS™ Knights of the Old Republic™ II - The Sith Lords™    0.002531\n",
      "STAR WARS™ - Knights of the Old Republic™                       0.002022\n",
      "STAR WARS™ Republic Commando™                                   0.001872\n",
      "dtype: float64\n"
     ]
    }
   ],
   "source": [
    "print('Recomendación Top : ', recom.index[0],'\\n')\n",
    "print('Explicacion de la recomendación Top: \\n')\n",
    "print(explain)"
   ]
  },
  {
   "cell_type": "markdown",
   "metadata": {},
   "source": [
    "Como podemos ver el juego Arkham Origins fue recomendado debido a la similitud que tiene con varios juegos de Superheroes que ya posee el jugador, uno de ellos una version especial del propio Arkham Origins \n",
    "\n",
    "Busqueda de los juegos mas similares al principal juego recomendado"
   ]
  },
  {
   "cell_type": "code",
   "execution_count": 51,
   "metadata": {},
   "outputs": [],
   "source": [
    "item_similar = modelo4.similar_items(itemid=games_recom[0], N=10)\n",
    "\n",
    "games_itemsim = [i[0] for i in item_similar]\n",
    "scores_itemsim = [i[1] for i in item_similar]\n",
    "\n",
    "item_sim = pd.Series(scores_itemsim, index = games_itemsim)\n",
    "item_sim.index = item_sim.index.map(dict(zip(data_games.game_id,data_games.title)))"
   ]
  },
  {
   "cell_type": "code",
   "execution_count": 52,
   "metadata": {},
   "outputs": [
    {
     "name": "stdout",
     "output_type": "stream",
     "text": [
      "Item elegido :  Batman™: Arkham Origins \n",
      "\n",
      "Items mas similares : \n",
      "\n",
      "Batman™: Arkham Origins                               1.000000\n",
      "Batman: Arkham Asylum Game of the Year Edition        0.513631\n",
      "Batman™: Arkham Origins Blackgate - Deluxe Edition    0.485518\n",
      "Batman™: Arkham Knight                                0.458772\n",
      "Batman: Arkham City - Game of the Year Edition        0.359471\n",
      "Assassin's Creed Freedom Cry                          0.279052\n",
      "Catzilla 4K - Advanced                                0.275399\n",
      "Assassin’s Creed® III                                 0.263148\n",
      "LEGO® Batman 2 DC Super Heroes™                       0.262272\n",
      "Batman - The Telltale Series                          0.257684\n",
      "dtype: float64\n"
     ]
    }
   ],
   "source": [
    "print('Item elegido : ',recom.index[0],'\\n')\n",
    "print('Items mas similares : \\n')\n",
    "print(item_sim)"
   ]
  },
  {
   "cell_type": "markdown",
   "metadata": {},
   "source": [
    "Busqueda de los usuarios mas similares al usuario elegido"
   ]
  },
  {
   "cell_type": "code",
   "execution_count": 53,
   "metadata": {},
   "outputs": [],
   "source": [
    "user_similar = modelo4.similar_users(userid=user, N=10)\n",
    "\n",
    "users_usersim = [i[0] for i in user_similar]\n",
    "scores_usersim = [i[1] for i in user_similar]\n",
    "\n",
    "usersim = pd.Series(scores_usersim, index = users_usersim)\n",
    "usersim.index = usersim.index.map(dict(zip(data_reviews.user_id,data_reviews.username)))"
   ]
  },
  {
   "cell_type": "code",
   "execution_count": 54,
   "metadata": {},
   "outputs": [
    {
     "name": "stdout",
     "output_type": "stream",
     "text": [
      "Usuario elegido :  andyfinn2012 \n",
      "\n",
      "Usuarios mas similares : \n",
      "\n",
      "andyfinn2012                   1.000000\n",
      "DeyQuan                        0.385220\n",
      "Yes                            0.382669\n",
      "Kanan-Jarrus3244(BMGHunt3r)    0.369993\n",
      "Koodlevoodlen                  0.368166\n",
      "add2Kart                       0.366813\n",
      "Admiral Allahu Ackbar          0.366025\n",
      "AutomaticRogue                 0.362267\n",
      "Dexter <3                      0.359896\n",
      "Geoff Shen                     0.358736\n",
      "dtype: float64\n"
     ]
    }
   ],
   "source": [
    "print('Usuario elegido : ',usuario,'\\n')\n",
    "print('Usuarios mas similares : \\n')\n",
    "print(usersim)"
   ]
  },
  {
   "cell_type": "code",
   "execution_count": null,
   "metadata": {},
   "outputs": [],
   "source": []
  }
 ],
 "metadata": {
  "colab": {
   "collapsed_sections": [],
   "name": "Copia de DS_Proyecto_03_SR.ipynb",
   "provenance": [
    {
     "file_id": "1byeX_htRp3NqV08X3eLlWIp02cnPb_WP",
     "timestamp": 1607627244740
    }
   ]
  },
  "kernelspec": {
   "display_name": "Python 3",
   "language": "python",
   "name": "python3"
  },
  "language_info": {
   "codemirror_mode": {
    "name": "ipython",
    "version": 3
   },
   "file_extension": ".py",
   "mimetype": "text/x-python",
   "name": "python",
   "nbconvert_exporter": "python",
   "pygments_lexer": "ipython3",
   "version": "3.8.5"
  }
 },
 "nbformat": 4,
 "nbformat_minor": 1
}
